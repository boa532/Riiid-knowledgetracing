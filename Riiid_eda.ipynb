{
  "nbformat": 4,
  "nbformat_minor": 0,
  "metadata": {
    "colab": {
      "name": "Riiid_eda.ipynb",
      "provenance": [],
      "collapsed_sections": [
        "VVyLl0HB1jad",
        "BGVYKjwirvVW"
      ],
      "machine_shape": "hm"
    },
    "kernelspec": {
      "name": "python3",
      "display_name": "Python 3"
    },
    "language_info": {
      "name": "python"
    }
  },
  "cells": [
    {
      "cell_type": "markdown",
      "metadata": {
        "id": "vbVuALAe0DzQ"
      },
      "source": [
        "## Load Data"
      ]
    },
    {
      "cell_type": "code",
      "metadata": {
        "colab": {
          "base_uri": "https://localhost:8080/"
        },
        "id": "YUbKeAfkx5Y4",
        "outputId": "02241a42-8bb7-4bfe-d08b-c56f93670535"
      },
      "source": [
        "!pip install datatable\n",
        "\n",
        "import datatable as dt"
      ],
      "execution_count": null,
      "outputs": [
        {
          "output_type": "stream",
          "text": [
            "Requirement already satisfied: datatable in /usr/local/lib/python3.7/dist-packages (1.0.0)\n"
          ],
          "name": "stdout"
        }
      ]
    },
    {
      "cell_type": "code",
      "metadata": {
        "id": "3sd_7ICLwJOS"
      },
      "source": [
        "import pandas as pd\n",
        "import numpy as np"
      ],
      "execution_count": null,
      "outputs": []
    },
    {
      "cell_type": "code",
      "metadata": {
        "id": "oeAorZbYwdS8",
        "colab": {
          "base_uri": "https://localhost:8080/",
          "height": 397
        },
        "outputId": "00ec887f-350a-4898-ceee-565677e70363"
      },
      "source": [
        "%%time\n",
        "\n",
        "data = dt.fread('/content/drive/MyDrive/Colab Notebooks/riiid/riiid-test-answer-prediction.zip (Unzipped Files)/train.csv')\n",
        "print(\"Train size:\", data.shape)"
      ],
      "execution_count": null,
      "outputs": [
        {
          "output_type": "error",
          "ename": "KeyboardInterrupt",
          "evalue": "ignored",
          "traceback": [
            "\u001b[0;31m---------------------------------------------------------------------------\u001b[0m",
            "\u001b[0;31mKeyboardInterrupt\u001b[0m                         Traceback (most recent call last)",
            "\u001b[0;32m<ipython-input-118-5543322a1458>\u001b[0m in \u001b[0;36m<module>\u001b[0;34m()\u001b[0m\n\u001b[0;32m----> 1\u001b[0;31m \u001b[0mget_ipython\u001b[0m\u001b[0;34m(\u001b[0m\u001b[0;34m)\u001b[0m\u001b[0;34m.\u001b[0m\u001b[0mrun_cell_magic\u001b[0m\u001b[0;34m(\u001b[0m\u001b[0;34m'time'\u001b[0m\u001b[0;34m,\u001b[0m \u001b[0;34m''\u001b[0m\u001b[0;34m,\u001b[0m \u001b[0;34m'\\ndata = dt.fread(\\'/content/drive/MyDrive/Colab Notebooks/riiid/riiid-test-answer-prediction.zip (Unzipped Files)/train.csv\\')\\nprint(\"Train size:\", data.shape)'\u001b[0m\u001b[0;34m)\u001b[0m\u001b[0;34m\u001b[0m\u001b[0;34m\u001b[0m\u001b[0m\n\u001b[0m",
            "\u001b[0;32m/usr/local/lib/python3.7/dist-packages/IPython/core/interactiveshell.py\u001b[0m in \u001b[0;36mrun_cell_magic\u001b[0;34m(self, magic_name, line, cell)\u001b[0m\n\u001b[1;32m   2115\u001b[0m             \u001b[0mmagic_arg_s\u001b[0m \u001b[0;34m=\u001b[0m \u001b[0mself\u001b[0m\u001b[0;34m.\u001b[0m\u001b[0mvar_expand\u001b[0m\u001b[0;34m(\u001b[0m\u001b[0mline\u001b[0m\u001b[0;34m,\u001b[0m \u001b[0mstack_depth\u001b[0m\u001b[0;34m)\u001b[0m\u001b[0;34m\u001b[0m\u001b[0;34m\u001b[0m\u001b[0m\n\u001b[1;32m   2116\u001b[0m             \u001b[0;32mwith\u001b[0m \u001b[0mself\u001b[0m\u001b[0;34m.\u001b[0m\u001b[0mbuiltin_trap\u001b[0m\u001b[0;34m:\u001b[0m\u001b[0;34m\u001b[0m\u001b[0;34m\u001b[0m\u001b[0m\n\u001b[0;32m-> 2117\u001b[0;31m                 \u001b[0mresult\u001b[0m \u001b[0;34m=\u001b[0m \u001b[0mfn\u001b[0m\u001b[0;34m(\u001b[0m\u001b[0mmagic_arg_s\u001b[0m\u001b[0;34m,\u001b[0m \u001b[0mcell\u001b[0m\u001b[0;34m)\u001b[0m\u001b[0;34m\u001b[0m\u001b[0;34m\u001b[0m\u001b[0m\n\u001b[0m\u001b[1;32m   2118\u001b[0m             \u001b[0;32mreturn\u001b[0m \u001b[0mresult\u001b[0m\u001b[0;34m\u001b[0m\u001b[0;34m\u001b[0m\u001b[0m\n\u001b[1;32m   2119\u001b[0m \u001b[0;34m\u001b[0m\u001b[0m\n",
            "\u001b[0;32m<decorator-gen-53>\u001b[0m in \u001b[0;36mtime\u001b[0;34m(self, line, cell, local_ns)\u001b[0m\n",
            "\u001b[0;32m/usr/local/lib/python3.7/dist-packages/IPython/core/magic.py\u001b[0m in \u001b[0;36m<lambda>\u001b[0;34m(f, *a, **k)\u001b[0m\n\u001b[1;32m    186\u001b[0m     \u001b[0;31m# but it's overkill for just that one bit of state.\u001b[0m\u001b[0;34m\u001b[0m\u001b[0;34m\u001b[0m\u001b[0;34m\u001b[0m\u001b[0m\n\u001b[1;32m    187\u001b[0m     \u001b[0;32mdef\u001b[0m \u001b[0mmagic_deco\u001b[0m\u001b[0;34m(\u001b[0m\u001b[0marg\u001b[0m\u001b[0;34m)\u001b[0m\u001b[0;34m:\u001b[0m\u001b[0;34m\u001b[0m\u001b[0;34m\u001b[0m\u001b[0m\n\u001b[0;32m--> 188\u001b[0;31m         \u001b[0mcall\u001b[0m \u001b[0;34m=\u001b[0m \u001b[0;32mlambda\u001b[0m \u001b[0mf\u001b[0m\u001b[0;34m,\u001b[0m \u001b[0;34m*\u001b[0m\u001b[0ma\u001b[0m\u001b[0;34m,\u001b[0m \u001b[0;34m**\u001b[0m\u001b[0mk\u001b[0m\u001b[0;34m:\u001b[0m \u001b[0mf\u001b[0m\u001b[0;34m(\u001b[0m\u001b[0;34m*\u001b[0m\u001b[0ma\u001b[0m\u001b[0;34m,\u001b[0m \u001b[0;34m**\u001b[0m\u001b[0mk\u001b[0m\u001b[0;34m)\u001b[0m\u001b[0;34m\u001b[0m\u001b[0;34m\u001b[0m\u001b[0m\n\u001b[0m\u001b[1;32m    189\u001b[0m \u001b[0;34m\u001b[0m\u001b[0m\n\u001b[1;32m    190\u001b[0m         \u001b[0;32mif\u001b[0m \u001b[0mcallable\u001b[0m\u001b[0;34m(\u001b[0m\u001b[0marg\u001b[0m\u001b[0;34m)\u001b[0m\u001b[0;34m:\u001b[0m\u001b[0;34m\u001b[0m\u001b[0;34m\u001b[0m\u001b[0m\n",
            "\u001b[0;32m/usr/local/lib/python3.7/dist-packages/IPython/core/magics/execution.py\u001b[0m in \u001b[0;36mtime\u001b[0;34m(self, line, cell, local_ns)\u001b[0m\n\u001b[1;32m   1191\u001b[0m         \u001b[0;32melse\u001b[0m\u001b[0;34m:\u001b[0m\u001b[0;34m\u001b[0m\u001b[0;34m\u001b[0m\u001b[0m\n\u001b[1;32m   1192\u001b[0m             \u001b[0mst\u001b[0m \u001b[0;34m=\u001b[0m \u001b[0mclock2\u001b[0m\u001b[0;34m(\u001b[0m\u001b[0;34m)\u001b[0m\u001b[0;34m\u001b[0m\u001b[0;34m\u001b[0m\u001b[0m\n\u001b[0;32m-> 1193\u001b[0;31m             \u001b[0mexec\u001b[0m\u001b[0;34m(\u001b[0m\u001b[0mcode\u001b[0m\u001b[0;34m,\u001b[0m \u001b[0mglob\u001b[0m\u001b[0;34m,\u001b[0m \u001b[0mlocal_ns\u001b[0m\u001b[0;34m)\u001b[0m\u001b[0;34m\u001b[0m\u001b[0;34m\u001b[0m\u001b[0m\n\u001b[0m\u001b[1;32m   1194\u001b[0m             \u001b[0mend\u001b[0m \u001b[0;34m=\u001b[0m \u001b[0mclock2\u001b[0m\u001b[0;34m(\u001b[0m\u001b[0;34m)\u001b[0m\u001b[0;34m\u001b[0m\u001b[0;34m\u001b[0m\u001b[0m\n\u001b[1;32m   1195\u001b[0m             \u001b[0mout\u001b[0m \u001b[0;34m=\u001b[0m \u001b[0;32mNone\u001b[0m\u001b[0;34m\u001b[0m\u001b[0;34m\u001b[0m\u001b[0m\n",
            "\u001b[0;32m<timed exec>\u001b[0m in \u001b[0;36m<module>\u001b[0;34m()\u001b[0m\n",
            "\u001b[0;31mKeyboardInterrupt\u001b[0m: "
          ]
        }
      ]
    },
    {
      "cell_type": "code",
      "metadata": {
        "colab": {
          "base_uri": "https://localhost:8080/",
          "height": 225
        },
        "id": "xjd1VeOi2s2r",
        "outputId": "f1076353-3ee9-42e1-f473-b3dca2939c3d"
      },
      "source": [
        "df = pd.read_pickle('/content/drive/MyDrive/Colab Notebooks/riiid/riiid-test-answer-prediction.zip (Unzipped Files)/riiid_train.pkl.gzip')\n",
        "df.head()"
      ],
      "execution_count": null,
      "outputs": [
        {
          "output_type": "execute_result",
          "data": {
            "text/html": [
              "<div>\n",
              "<style scoped>\n",
              "    .dataframe tbody tr th:only-of-type {\n",
              "        vertical-align: middle;\n",
              "    }\n",
              "\n",
              "    .dataframe tbody tr th {\n",
              "        vertical-align: top;\n",
              "    }\n",
              "\n",
              "    .dataframe thead th {\n",
              "        text-align: right;\n",
              "    }\n",
              "</style>\n",
              "<table border=\"1\" class=\"dataframe\">\n",
              "  <thead>\n",
              "    <tr style=\"text-align: right;\">\n",
              "      <th></th>\n",
              "      <th>row_id</th>\n",
              "      <th>timestamp</th>\n",
              "      <th>user_id</th>\n",
              "      <th>content_id</th>\n",
              "      <th>content_type_id</th>\n",
              "      <th>task_container_id</th>\n",
              "      <th>user_answer</th>\n",
              "      <th>answered_correctly</th>\n",
              "      <th>prior_question_elapsed_time</th>\n",
              "      <th>prior_question_had_explanation</th>\n",
              "    </tr>\n",
              "  </thead>\n",
              "  <tbody>\n",
              "    <tr>\n",
              "      <th>0</th>\n",
              "      <td>0</td>\n",
              "      <td>0</td>\n",
              "      <td>115</td>\n",
              "      <td>5692</td>\n",
              "      <td>False</td>\n",
              "      <td>1</td>\n",
              "      <td>3</td>\n",
              "      <td>1</td>\n",
              "      <td>NaN</td>\n",
              "      <td>NaN</td>\n",
              "    </tr>\n",
              "    <tr>\n",
              "      <th>1</th>\n",
              "      <td>1</td>\n",
              "      <td>56943</td>\n",
              "      <td>115</td>\n",
              "      <td>5716</td>\n",
              "      <td>False</td>\n",
              "      <td>2</td>\n",
              "      <td>2</td>\n",
              "      <td>1</td>\n",
              "      <td>37000.0</td>\n",
              "      <td>False</td>\n",
              "    </tr>\n",
              "    <tr>\n",
              "      <th>2</th>\n",
              "      <td>2</td>\n",
              "      <td>118363</td>\n",
              "      <td>115</td>\n",
              "      <td>128</td>\n",
              "      <td>False</td>\n",
              "      <td>0</td>\n",
              "      <td>0</td>\n",
              "      <td>1</td>\n",
              "      <td>55000.0</td>\n",
              "      <td>False</td>\n",
              "    </tr>\n",
              "    <tr>\n",
              "      <th>3</th>\n",
              "      <td>3</td>\n",
              "      <td>131167</td>\n",
              "      <td>115</td>\n",
              "      <td>7860</td>\n",
              "      <td>False</td>\n",
              "      <td>3</td>\n",
              "      <td>0</td>\n",
              "      <td>1</td>\n",
              "      <td>19000.0</td>\n",
              "      <td>False</td>\n",
              "    </tr>\n",
              "    <tr>\n",
              "      <th>4</th>\n",
              "      <td>4</td>\n",
              "      <td>137965</td>\n",
              "      <td>115</td>\n",
              "      <td>7922</td>\n",
              "      <td>False</td>\n",
              "      <td>4</td>\n",
              "      <td>1</td>\n",
              "      <td>1</td>\n",
              "      <td>11000.0</td>\n",
              "      <td>False</td>\n",
              "    </tr>\n",
              "  </tbody>\n",
              "</table>\n",
              "</div>"
            ],
            "text/plain": [
              "   row_id  ...  prior_question_had_explanation\n",
              "0       0  ...                             NaN\n",
              "1       1  ...                           False\n",
              "2       2  ...                           False\n",
              "3       3  ...                           False\n",
              "4       4  ...                           False\n",
              "\n",
              "[5 rows x 10 columns]"
            ]
          },
          "metadata": {
            "tags": []
          },
          "execution_count": 119
        }
      ]
    },
    {
      "cell_type": "code",
      "metadata": {
        "colab": {
          "base_uri": "https://localhost:8080/"
        },
        "id": "T_s_U3fTIhGc",
        "outputId": "4483ffc8-03f9-42f2-fe4d-1372698b571a"
      },
      "source": [
        "len(df.user_id.unique())"
      ],
      "execution_count": null,
      "outputs": [
        {
          "output_type": "execute_result",
          "data": {
            "text/plain": [
              "393656"
            ]
          },
          "metadata": {
            "tags": []
          },
          "execution_count": 120
        }
      ]
    },
    {
      "cell_type": "code",
      "metadata": {
        "id": "j42h4d6OySo1"
      },
      "source": [
        "train = data.to_pandas()"
      ],
      "execution_count": null,
      "outputs": []
    },
    {
      "cell_type": "code",
      "metadata": {
        "id": "e-3dIaa72Y92"
      },
      "source": [
        "train.to_pickle('/content/drive/MyDrive/Colab Notebooks/riiid/riiid-test-answer-prediction.zip (Unzipped Files)/riiid_train.pkl.gzip')"
      ],
      "execution_count": null,
      "outputs": []
    },
    {
      "cell_type": "markdown",
      "metadata": {
        "id": "VVyLl0HB1jad"
      },
      "source": [
        "## sampling"
      ]
    },
    {
      "cell_type": "code",
      "metadata": {
        "colab": {
          "base_uri": "https://localhost:8080/",
          "height": 202
        },
        "id": "WAJlbHFx2-Rj",
        "outputId": "6dffb768-98f7-4811-e055-c75d4b422c5d"
      },
      "source": [
        "train.head()"
      ],
      "execution_count": null,
      "outputs": [
        {
          "output_type": "execute_result",
          "data": {
            "text/html": [
              "<div>\n",
              "<style scoped>\n",
              "    .dataframe tbody tr th:only-of-type {\n",
              "        vertical-align: middle;\n",
              "    }\n",
              "\n",
              "    .dataframe tbody tr th {\n",
              "        vertical-align: top;\n",
              "    }\n",
              "\n",
              "    .dataframe thead th {\n",
              "        text-align: right;\n",
              "    }\n",
              "</style>\n",
              "<table border=\"1\" class=\"dataframe\">\n",
              "  <thead>\n",
              "    <tr style=\"text-align: right;\">\n",
              "      <th></th>\n",
              "      <th>row_id</th>\n",
              "      <th>timestamp</th>\n",
              "      <th>user_id</th>\n",
              "      <th>content_id</th>\n",
              "      <th>content_type_id</th>\n",
              "      <th>task_container_id</th>\n",
              "      <th>user_answer</th>\n",
              "      <th>answered_correctly</th>\n",
              "      <th>prior_question_elapsed_time</th>\n",
              "      <th>prior_question_had_explanation</th>\n",
              "    </tr>\n",
              "  </thead>\n",
              "  <tbody>\n",
              "    <tr>\n",
              "      <th>0</th>\n",
              "      <td>0</td>\n",
              "      <td>0</td>\n",
              "      <td>115</td>\n",
              "      <td>5692</td>\n",
              "      <td>False</td>\n",
              "      <td>1</td>\n",
              "      <td>3</td>\n",
              "      <td>1</td>\n",
              "      <td>NaN</td>\n",
              "      <td>NaN</td>\n",
              "    </tr>\n",
              "    <tr>\n",
              "      <th>1</th>\n",
              "      <td>1</td>\n",
              "      <td>56943</td>\n",
              "      <td>115</td>\n",
              "      <td>5716</td>\n",
              "      <td>False</td>\n",
              "      <td>2</td>\n",
              "      <td>2</td>\n",
              "      <td>1</td>\n",
              "      <td>37000.0</td>\n",
              "      <td>False</td>\n",
              "    </tr>\n",
              "    <tr>\n",
              "      <th>2</th>\n",
              "      <td>2</td>\n",
              "      <td>118363</td>\n",
              "      <td>115</td>\n",
              "      <td>128</td>\n",
              "      <td>False</td>\n",
              "      <td>0</td>\n",
              "      <td>0</td>\n",
              "      <td>1</td>\n",
              "      <td>55000.0</td>\n",
              "      <td>False</td>\n",
              "    </tr>\n",
              "    <tr>\n",
              "      <th>3</th>\n",
              "      <td>3</td>\n",
              "      <td>131167</td>\n",
              "      <td>115</td>\n",
              "      <td>7860</td>\n",
              "      <td>False</td>\n",
              "      <td>3</td>\n",
              "      <td>0</td>\n",
              "      <td>1</td>\n",
              "      <td>19000.0</td>\n",
              "      <td>False</td>\n",
              "    </tr>\n",
              "    <tr>\n",
              "      <th>4</th>\n",
              "      <td>4</td>\n",
              "      <td>137965</td>\n",
              "      <td>115</td>\n",
              "      <td>7922</td>\n",
              "      <td>False</td>\n",
              "      <td>4</td>\n",
              "      <td>1</td>\n",
              "      <td>1</td>\n",
              "      <td>11000.0</td>\n",
              "      <td>False</td>\n",
              "    </tr>\n",
              "  </tbody>\n",
              "</table>\n",
              "</div>"
            ],
            "text/plain": [
              "   row_id  ...  prior_question_had_explanation\n",
              "0       0  ...                             NaN\n",
              "1       1  ...                           False\n",
              "2       2  ...                           False\n",
              "3       3  ...                           False\n",
              "4       4  ...                           False\n",
              "\n",
              "[5 rows x 10 columns]"
            ]
          },
          "metadata": {
            "tags": []
          },
          "execution_count": 9
        }
      ]
    },
    {
      "cell_type": "code",
      "metadata": {
        "colab": {
          "base_uri": "https://localhost:8080/"
        },
        "id": "Ghkxobyv0G8w",
        "outputId": "ad1d3ed0-a956-4ad6-bd6d-8a93767435f1"
      },
      "source": [
        "train.info()"
      ],
      "execution_count": null,
      "outputs": [
        {
          "output_type": "stream",
          "text": [
            "<class 'pandas.core.frame.DataFrame'>\n",
            "RangeIndex: 101230332 entries, 0 to 101230331\n",
            "Data columns (total 10 columns):\n",
            " #   Column                          Dtype  \n",
            "---  ------                          -----  \n",
            " 0   row_id                          int32  \n",
            " 1   timestamp                       int64  \n",
            " 2   user_id                         int32  \n",
            " 3   content_id                      int32  \n",
            " 4   content_type_id                 bool   \n",
            " 5   task_container_id               int32  \n",
            " 6   user_answer                     int32  \n",
            " 7   answered_correctly              int32  \n",
            " 8   prior_question_elapsed_time     float64\n",
            " 9   prior_question_had_explanation  object \n",
            "dtypes: bool(1), float64(1), int32(6), int64(1), object(1)\n",
            "memory usage: 4.6+ GB\n"
          ],
          "name": "stdout"
        }
      ]
    },
    {
      "cell_type": "code",
      "metadata": {
        "id": "9tbc67ES2-Tl"
      },
      "source": [
        "import random\n",
        "\n",
        "user = train.user_id.tolist()\n",
        "\n",
        "# 약 10%의 user_id sampling\n",
        "\n",
        "random.seed(1)\n",
        "sample = random.sample(set(user), 4000)"
      ],
      "execution_count": null,
      "outputs": []
    },
    {
      "cell_type": "code",
      "metadata": {
        "id": "OrPr9Orz2-WG"
      },
      "source": [
        "sample_train = train[train.user_id.isin(sample)]"
      ],
      "execution_count": null,
      "outputs": []
    },
    {
      "cell_type": "code",
      "metadata": {
        "colab": {
          "base_uri": "https://localhost:8080/"
        },
        "id": "GNtScSdD__r9",
        "outputId": "8c0228c3-4f22-443b-ac91-03cab7ae5475"
      },
      "source": [
        "len(sample_train)"
      ],
      "execution_count": null,
      "outputs": [
        {
          "output_type": "execute_result",
          "data": {
            "text/plain": [
              "1069559"
            ]
          },
          "metadata": {
            "tags": []
          },
          "execution_count": 59
        }
      ]
    },
    {
      "cell_type": "code",
      "metadata": {
        "id": "cr6VAOoM03Ov"
      },
      "source": [
        "sample_train.to_csv('/content/drive/MyDrive/Colab Notebooks/riiid/riiid-test-answer-prediction.zip (Unzipped Files)/sample_riiid_train.csv')"
      ],
      "execution_count": null,
      "outputs": []
    },
    {
      "cell_type": "markdown",
      "metadata": {
        "id": "xDfmZGWS3193"
      },
      "source": [
        "## EDA\n",
        "### train data"
      ]
    },
    {
      "cell_type": "code",
      "metadata": {
        "id": "LnBDimnJ-0Lx"
      },
      "source": [
        "sample_train= pd.read_csv('/content/drive/MyDrive/Colab Notebooks/riiid/riiid-test-answer-prediction.zip (Unzipped Files)/sample_riiid_train.csv')"
      ],
      "execution_count": null,
      "outputs": []
    },
    {
      "cell_type": "code",
      "metadata": {
        "id": "4u00-iOc6R-r"
      },
      "source": [
        "import matplotlib.pyplot as plt\n",
        "import seaborn as sns"
      ],
      "execution_count": null,
      "outputs": []
    },
    {
      "cell_type": "code",
      "metadata": {
        "id": "RTqbpXQzbAua"
      },
      "source": [
        ""
      ],
      "execution_count": null,
      "outputs": []
    },
    {
      "cell_type": "code",
      "metadata": {
        "colab": {
          "base_uri": "https://localhost:8080/"
        },
        "id": "5m6i2IfQmdWM",
        "outputId": "1fa1b9b8-3034-47a3-ddd0-01922e8e3477"
      },
      "source": [
        "round(0.840000001,2)"
      ],
      "execution_count": null,
      "outputs": [
        {
          "output_type": "execute_result",
          "data": {
            "text/plain": [
              "0.84"
            ]
          },
          "metadata": {
            "tags": []
          },
          "execution_count": 93
        }
      ]
    },
    {
      "cell_type": "code",
      "metadata": {
        "colab": {
          "base_uri": "https://localhost:8080/"
        },
        "id": "232YFwcU_FHh",
        "outputId": "891e99ac-cc03-44ab-f53f-3164a051ebff"
      },
      "source": [
        "len(sample_train.user_id.unique())"
      ],
      "execution_count": null,
      "outputs": [
        {
          "output_type": "execute_result",
          "data": {
            "text/plain": [
              "4000"
            ]
          },
          "metadata": {
            "tags": []
          },
          "execution_count": 122
        }
      ]
    },
    {
      "cell_type": "code",
      "metadata": {
        "colab": {
          "base_uri": "https://localhost:8080/"
        },
        "id": "WycIA2m4cKli",
        "outputId": "bd01de3c-a3db-4b02-8dac-f5584c94b4a9"
      },
      "source": [
        "sample_train.user_answer.unique()"
      ],
      "execution_count": null,
      "outputs": [
        {
          "output_type": "execute_result",
          "data": {
            "text/plain": [
              "array([ 3,  1,  0,  2, -1])"
            ]
          },
          "metadata": {
            "tags": []
          },
          "execution_count": 123
        }
      ]
    },
    {
      "cell_type": "code",
      "metadata": {
        "id": "cA9c3fbU09Pf",
        "colab": {
          "base_uri": "https://localhost:8080/",
          "height": 305
        },
        "outputId": "0e2e08e5-6f48-449b-d361-6db28576c52a"
      },
      "source": [
        "sample_train[(sample_train.user_id==13134)&(sample_train.content_type_id==True)]"
      ],
      "execution_count": null,
      "outputs": [
        {
          "output_type": "execute_result",
          "data": {
            "text/html": [
              "<div>\n",
              "<style scoped>\n",
              "    .dataframe tbody tr th:only-of-type {\n",
              "        vertical-align: middle;\n",
              "    }\n",
              "\n",
              "    .dataframe tbody tr th {\n",
              "        vertical-align: top;\n",
              "    }\n",
              "\n",
              "    .dataframe thead th {\n",
              "        text-align: right;\n",
              "    }\n",
              "</style>\n",
              "<table border=\"1\" class=\"dataframe\">\n",
              "  <thead>\n",
              "    <tr style=\"text-align: right;\">\n",
              "      <th></th>\n",
              "      <th>Unnamed: 0</th>\n",
              "      <th>row_id</th>\n",
              "      <th>timestamp</th>\n",
              "      <th>user_id</th>\n",
              "      <th>content_id</th>\n",
              "      <th>content_type_id</th>\n",
              "      <th>task_container_id</th>\n",
              "      <th>user_answer</th>\n",
              "      <th>answered_correctly</th>\n",
              "      <th>prior_question_elapsed_time</th>\n",
              "      <th>prior_question_had_explanation</th>\n",
              "    </tr>\n",
              "  </thead>\n",
              "  <tbody>\n",
              "    <tr>\n",
              "      <th>66</th>\n",
              "      <td>690</td>\n",
              "      <td>690</td>\n",
              "      <td>12948802833</td>\n",
              "      <td>13134</td>\n",
              "      <td>21887</td>\n",
              "      <td>True</td>\n",
              "      <td>58</td>\n",
              "      <td>-1</td>\n",
              "      <td>-1</td>\n",
              "      <td>NaN</td>\n",
              "      <td>False</td>\n",
              "    </tr>\n",
              "    <tr>\n",
              "      <th>158</th>\n",
              "      <td>782</td>\n",
              "      <td>782</td>\n",
              "      <td>15019770367</td>\n",
              "      <td>13134</td>\n",
              "      <td>29544</td>\n",
              "      <td>True</td>\n",
              "      <td>120</td>\n",
              "      <td>-1</td>\n",
              "      <td>-1</td>\n",
              "      <td>NaN</td>\n",
              "      <td>False</td>\n",
              "    </tr>\n",
              "    <tr>\n",
              "      <th>164</th>\n",
              "      <td>788</td>\n",
              "      <td>788</td>\n",
              "      <td>15019967974</td>\n",
              "      <td>13134</td>\n",
              "      <td>3153</td>\n",
              "      <td>True</td>\n",
              "      <td>156</td>\n",
              "      <td>-1</td>\n",
              "      <td>-1</td>\n",
              "      <td>NaN</td>\n",
              "      <td>False</td>\n",
              "    </tr>\n",
              "    <tr>\n",
              "      <th>167</th>\n",
              "      <td>791</td>\n",
              "      <td>791</td>\n",
              "      <td>15020058343</td>\n",
              "      <td>13134</td>\n",
              "      <td>28921</td>\n",
              "      <td>True</td>\n",
              "      <td>159</td>\n",
              "      <td>-1</td>\n",
              "      <td>-1</td>\n",
              "      <td>NaN</td>\n",
              "      <td>False</td>\n",
              "    </tr>\n",
              "    <tr>\n",
              "      <th>179</th>\n",
              "      <td>803</td>\n",
              "      <td>803</td>\n",
              "      <td>15020622121</td>\n",
              "      <td>13134</td>\n",
              "      <td>28349</td>\n",
              "      <td>True</td>\n",
              "      <td>172</td>\n",
              "      <td>-1</td>\n",
              "      <td>-1</td>\n",
              "      <td>NaN</td>\n",
              "      <td>False</td>\n",
              "    </tr>\n",
              "    <tr>\n",
              "      <th>388</th>\n",
              "      <td>1012</td>\n",
              "      <td>1012</td>\n",
              "      <td>15094512260</td>\n",
              "      <td>13134</td>\n",
              "      <td>2278</td>\n",
              "      <td>True</td>\n",
              "      <td>311</td>\n",
              "      <td>-1</td>\n",
              "      <td>-1</td>\n",
              "      <td>NaN</td>\n",
              "      <td>False</td>\n",
              "    </tr>\n",
              "    <tr>\n",
              "      <th>667</th>\n",
              "      <td>1291</td>\n",
              "      <td>1291</td>\n",
              "      <td>15906947254</td>\n",
              "      <td>13134</td>\n",
              "      <td>7477</td>\n",
              "      <td>True</td>\n",
              "      <td>547</td>\n",
              "      <td>-1</td>\n",
              "      <td>-1</td>\n",
              "      <td>NaN</td>\n",
              "      <td>False</td>\n",
              "    </tr>\n",
              "  </tbody>\n",
              "</table>\n",
              "</div>"
            ],
            "text/plain": [
              "     Unnamed: 0  ...  prior_question_had_explanation\n",
              "66          690  ...                           False\n",
              "158         782  ...                           False\n",
              "164         788  ...                           False\n",
              "167         791  ...                           False\n",
              "179         803  ...                           False\n",
              "388        1012  ...                           False\n",
              "667        1291  ...                           False\n",
              "\n",
              "[7 rows x 11 columns]"
            ]
          },
          "metadata": {
            "tags": []
          },
          "execution_count": 124
        }
      ]
    },
    {
      "cell_type": "code",
      "metadata": {
        "id": "JRsUEpYO1k5H",
        "colab": {
          "base_uri": "https://localhost:8080/",
          "height": 459
        },
        "outputId": "a2304163-70b7-447e-bdb4-a96529c163e1"
      },
      "source": [
        "sample_train = sample_train.reset_index(drop=True)\n",
        "sample_train"
      ],
      "execution_count": null,
      "outputs": [
        {
          "output_type": "execute_result",
          "data": {
            "text/html": [
              "<div>\n",
              "<style scoped>\n",
              "    .dataframe tbody tr th:only-of-type {\n",
              "        vertical-align: middle;\n",
              "    }\n",
              "\n",
              "    .dataframe tbody tr th {\n",
              "        vertical-align: top;\n",
              "    }\n",
              "\n",
              "    .dataframe thead th {\n",
              "        text-align: right;\n",
              "    }\n",
              "</style>\n",
              "<table border=\"1\" class=\"dataframe\">\n",
              "  <thead>\n",
              "    <tr style=\"text-align: right;\">\n",
              "      <th></th>\n",
              "      <th>Unnamed: 0</th>\n",
              "      <th>row_id</th>\n",
              "      <th>timestamp</th>\n",
              "      <th>user_id</th>\n",
              "      <th>content_id</th>\n",
              "      <th>content_type_id</th>\n",
              "      <th>task_container_id</th>\n",
              "      <th>user_answer</th>\n",
              "      <th>answered_correctly</th>\n",
              "      <th>prior_question_elapsed_time</th>\n",
              "      <th>prior_question_had_explanation</th>\n",
              "    </tr>\n",
              "  </thead>\n",
              "  <tbody>\n",
              "    <tr>\n",
              "      <th>0</th>\n",
              "      <td>624</td>\n",
              "      <td>624</td>\n",
              "      <td>0</td>\n",
              "      <td>13134</td>\n",
              "      <td>3926</td>\n",
              "      <td>False</td>\n",
              "      <td>0</td>\n",
              "      <td>3</td>\n",
              "      <td>1</td>\n",
              "      <td>NaN</td>\n",
              "      <td>NaN</td>\n",
              "    </tr>\n",
              "    <tr>\n",
              "      <th>1</th>\n",
              "      <td>625</td>\n",
              "      <td>625</td>\n",
              "      <td>23840</td>\n",
              "      <td>13134</td>\n",
              "      <td>564</td>\n",
              "      <td>False</td>\n",
              "      <td>1</td>\n",
              "      <td>1</td>\n",
              "      <td>0</td>\n",
              "      <td>22000.0</td>\n",
              "      <td>False</td>\n",
              "    </tr>\n",
              "    <tr>\n",
              "      <th>2</th>\n",
              "      <td>626</td>\n",
              "      <td>626</td>\n",
              "      <td>46834</td>\n",
              "      <td>13134</td>\n",
              "      <td>3865</td>\n",
              "      <td>False</td>\n",
              "      <td>2</td>\n",
              "      <td>1</td>\n",
              "      <td>0</td>\n",
              "      <td>18000.0</td>\n",
              "      <td>False</td>\n",
              "    </tr>\n",
              "    <tr>\n",
              "      <th>3</th>\n",
              "      <td>627</td>\n",
              "      <td>627</td>\n",
              "      <td>64749</td>\n",
              "      <td>13134</td>\n",
              "      <td>4231</td>\n",
              "      <td>False</td>\n",
              "      <td>3</td>\n",
              "      <td>1</td>\n",
              "      <td>1</td>\n",
              "      <td>19000.0</td>\n",
              "      <td>False</td>\n",
              "    </tr>\n",
              "    <tr>\n",
              "      <th>4</th>\n",
              "      <td>628</td>\n",
              "      <td>628</td>\n",
              "      <td>113000</td>\n",
              "      <td>13134</td>\n",
              "      <td>3684</td>\n",
              "      <td>False</td>\n",
              "      <td>4</td>\n",
              "      <td>1</td>\n",
              "      <td>1</td>\n",
              "      <td>13000.0</td>\n",
              "      <td>False</td>\n",
              "    </tr>\n",
              "    <tr>\n",
              "      <th>...</th>\n",
              "      <td>...</td>\n",
              "      <td>...</td>\n",
              "      <td>...</td>\n",
              "      <td>...</td>\n",
              "      <td>...</td>\n",
              "      <td>...</td>\n",
              "      <td>...</td>\n",
              "      <td>...</td>\n",
              "      <td>...</td>\n",
              "      <td>...</td>\n",
              "      <td>...</td>\n",
              "    </tr>\n",
              "    <tr>\n",
              "      <th>1069554</th>\n",
              "      <td>101196082</td>\n",
              "      <td>101196082</td>\n",
              "      <td>885666</td>\n",
              "      <td>2146790080</td>\n",
              "      <td>6880</td>\n",
              "      <td>False</td>\n",
              "      <td>14</td>\n",
              "      <td>2</td>\n",
              "      <td>0</td>\n",
              "      <td>14000.0</td>\n",
              "      <td>False</td>\n",
              "    </tr>\n",
              "    <tr>\n",
              "      <th>1069555</th>\n",
              "      <td>101196083</td>\n",
              "      <td>101196083</td>\n",
              "      <td>1205551</td>\n",
              "      <td>2146790080</td>\n",
              "      <td>7216</td>\n",
              "      <td>False</td>\n",
              "      <td>15</td>\n",
              "      <td>3</td>\n",
              "      <td>1</td>\n",
              "      <td>38750.0</td>\n",
              "      <td>False</td>\n",
              "    </tr>\n",
              "    <tr>\n",
              "      <th>1069556</th>\n",
              "      <td>101196084</td>\n",
              "      <td>101196084</td>\n",
              "      <td>1205551</td>\n",
              "      <td>2146790080</td>\n",
              "      <td>7217</td>\n",
              "      <td>False</td>\n",
              "      <td>15</td>\n",
              "      <td>1</td>\n",
              "      <td>0</td>\n",
              "      <td>38750.0</td>\n",
              "      <td>False</td>\n",
              "    </tr>\n",
              "    <tr>\n",
              "      <th>1069557</th>\n",
              "      <td>101196085</td>\n",
              "      <td>101196085</td>\n",
              "      <td>1205551</td>\n",
              "      <td>2146790080</td>\n",
              "      <td>7219</td>\n",
              "      <td>False</td>\n",
              "      <td>15</td>\n",
              "      <td>2</td>\n",
              "      <td>1</td>\n",
              "      <td>38750.0</td>\n",
              "      <td>False</td>\n",
              "    </tr>\n",
              "    <tr>\n",
              "      <th>1069558</th>\n",
              "      <td>101196086</td>\n",
              "      <td>101196086</td>\n",
              "      <td>1205551</td>\n",
              "      <td>2146790080</td>\n",
              "      <td>7218</td>\n",
              "      <td>False</td>\n",
              "      <td>15</td>\n",
              "      <td>0</td>\n",
              "      <td>0</td>\n",
              "      <td>38750.0</td>\n",
              "      <td>False</td>\n",
              "    </tr>\n",
              "  </tbody>\n",
              "</table>\n",
              "<p>1069559 rows × 11 columns</p>\n",
              "</div>"
            ],
            "text/plain": [
              "         Unnamed: 0  ...  prior_question_had_explanation\n",
              "0               624  ...                             NaN\n",
              "1               625  ...                           False\n",
              "2               626  ...                           False\n",
              "3               627  ...                           False\n",
              "4               628  ...                           False\n",
              "...             ...  ...                             ...\n",
              "1069554   101196082  ...                           False\n",
              "1069555   101196083  ...                           False\n",
              "1069556   101196084  ...                           False\n",
              "1069557   101196085  ...                           False\n",
              "1069558   101196086  ...                           False\n",
              "\n",
              "[1069559 rows x 11 columns]"
            ]
          },
          "metadata": {
            "tags": []
          },
          "execution_count": 125
        }
      ]
    },
    {
      "cell_type": "code",
      "metadata": {
        "colab": {
          "base_uri": "https://localhost:8080/",
          "height": 349
        },
        "id": "82118rLf57eG",
        "outputId": "405a9e92-209c-463b-c9ae-227663b2a59f"
      },
      "source": [
        "# Target variable : answered_correctly\n",
        "# -1은 답변하지 않은 것 0은 오답 1은 정답\n",
        "sns.countplot(x = sample_train.answered_correctly)\n",
        "sample_train.answered_correctly.value_counts(normalize=True)"
      ],
      "execution_count": null,
      "outputs": [
        {
          "output_type": "execute_result",
          "data": {
            "text/plain": [
              " 1    0.647386\n",
              " 0    0.333575\n",
              "-1    0.019039\n",
              "Name: answered_correctly, dtype: float64"
            ]
          },
          "metadata": {
            "tags": []
          },
          "execution_count": 126
        },
        {
          "output_type": "display_data",
          "data": {
            "image/png": "[encoded data removed]",
            "text/plain": [
              "<Figure size 432x288 with 1 Axes>"
            ]
          },
          "metadata": {
            "tags": [],
            "needs_background": "light"
          }
        }
      ]
    },
    {
      "cell_type": "markdown",
      "metadata": {
        "id": "hE1FJWco6wD7"
      },
      "source": [
        "1069559개의 데이터 중 대답하지 못하는 비율은 약 1.9%, 오답 비율은 약 33.3%, 정답 비율은 약 64.7%이다. 학습자들은 절반 이상의 질문에 정답을 선택했다."
      ]
    },
    {
      "cell_type": "code",
      "metadata": {
        "colab": {
          "base_uri": "https://localhost:8080/",
          "height": 295
        },
        "id": "opLIYmNU6PHw",
        "outputId": "7b68c017-992f-45f7-960b-657e34e3cebb"
      },
      "source": [
        "# timestamp\n",
        "sample_train.timestamp.hist(bins=100)\n"
      ],
      "execution_count": null,
      "outputs": [
        {
          "output_type": "execute_result",
          "data": {
            "text/plain": [
              "<matplotlib.axes._subplots.AxesSubplot at 0x7f96894dce50>"
            ]
          },
          "metadata": {
            "tags": []
          },
          "execution_count": 127
        },
        {
          "output_type": "display_data",
          "data": {
            "image/png": "[encoded data removed]",
            "text/plain": [
              "<Figure size 432x288 with 1 Axes>"
            ]
          },
          "metadata": {
            "tags": [],
            "needs_background": "light"
          }
        }
      ]
    },
    {
      "cell_type": "markdown",
      "metadata": {
        "id": "KWh-UIPu8rSE"
      },
      "source": [
        "- 모든 사용자는 첫 시작부터 기록이 존재하기 때문에 0이 가장 많다.\n",
        "- timestamp의 단위가 milisecond이기 때문에 이해하기 쉬운 단위로 바꿔주는 게 좋겠다.\n",
        "- 0은 지운 데이터를 보자"
      ]
    },
    {
      "cell_type": "code",
      "metadata": {
        "colab": {
          "base_uri": "https://localhost:8080/"
        },
        "id": "dKl0_ErX8Vfy",
        "outputId": "bc63d6a3-21ac-45b8-9ffe-0c50b34c59ed"
      },
      "source": [
        "timestamp = (sample_train.timestamp/(1000*60*60*24))\n",
        "timestamp = timestamp.drop(0.000000)\n",
        "timestamp"
      ],
      "execution_count": null,
      "outputs": [
        {
          "output_type": "execute_result",
          "data": {
            "text/plain": [
              "1          0.000276\n",
              "2          0.000542\n",
              "3          0.000749\n",
              "4          0.001308\n",
              "5          0.002122\n",
              "             ...   \n",
              "1069554    0.010251\n",
              "1069555    0.013953\n",
              "1069556    0.013953\n",
              "1069557    0.013953\n",
              "1069558    0.013953\n",
              "Name: timestamp, Length: 1069558, dtype: float64"
            ]
          },
          "metadata": {
            "tags": []
          },
          "execution_count": 123
        }
      ]
    },
    {
      "cell_type": "code",
      "metadata": {
        "colab": {
          "base_uri": "https://localhost:8080/",
          "height": 299
        },
        "id": "dKS_e3rA9BSu",
        "outputId": "1f18ae97-57a5-40eb-b487-015ff0317d82"
      },
      "source": [
        "print('Min:',timestamp.min(), 'Max:',timestamp.max())\n",
        "timestamp.hist(bins=100)"
      ],
      "execution_count": null,
      "outputs": [
        {
          "output_type": "stream",
          "text": [
            "Min: 0.0 Max: 909.025080925926\n"
          ],
          "name": "stdout"
        },
        {
          "output_type": "execute_result",
          "data": {
            "text/plain": [
              "<matplotlib.axes._subplots.AxesSubplot at 0x7eff15dbebd0>"
            ]
          },
          "metadata": {
            "tags": []
          },
          "execution_count": 124
        },
        {
          "output_type": "display_data",
          "data": {
            "image/png": "[encoded data removed]",
            "text/plain": [
              "<Figure size 432x288 with 1 Axes>"
            ]
          },
          "metadata": {
            "tags": [],
            "needs_background": "light"
          }
        }
      ]
    },
    {
      "cell_type": "markdown",
      "metadata": {
        "id": "hdL85NH09vi5"
      },
      "source": [
        "- 0을 지웠을 때도 역시 앞 쪽에 가장 많은 데이터가 집중되어 있다. \n",
        "- 약 100일 정도가 지났을 때 급격히 떨어지고 400일이 넘게 학습한 데이터는 전체에서 많은 부분을 차지하지 않는다."
      ]
    },
    {
      "cell_type": "code",
      "metadata": {
        "colab": {
          "base_uri": "https://localhost:8080/",
          "height": 399
        },
        "id": "0wntFqoo9vPW",
        "outputId": "62574328-06ef-42e2-e18e-46cfa0e01c5f"
      },
      "source": [
        "sample_train.timestamp = sample_train.timestamp/(1000*60*60) # 밀리세컨에서 일로 변환\n",
        "sample_train.head(10)"
      ],
      "execution_count": null,
      "outputs": [
        {
          "output_type": "execute_result",
          "data": {
            "text/html": [
              "<div>\n",
              "<style scoped>\n",
              "    .dataframe tbody tr th:only-of-type {\n",
              "        vertical-align: middle;\n",
              "    }\n",
              "\n",
              "    .dataframe tbody tr th {\n",
              "        vertical-align: top;\n",
              "    }\n",
              "\n",
              "    .dataframe thead th {\n",
              "        text-align: right;\n",
              "    }\n",
              "</style>\n",
              "<table border=\"1\" class=\"dataframe\">\n",
              "  <thead>\n",
              "    <tr style=\"text-align: right;\">\n",
              "      <th></th>\n",
              "      <th>Unnamed: 0</th>\n",
              "      <th>row_id</th>\n",
              "      <th>timestamp</th>\n",
              "      <th>user_id</th>\n",
              "      <th>content_id</th>\n",
              "      <th>content_type_id</th>\n",
              "      <th>task_container_id</th>\n",
              "      <th>user_answer</th>\n",
              "      <th>answered_correctly</th>\n",
              "      <th>prior_question_elapsed_time</th>\n",
              "      <th>prior_question_had_explanation</th>\n",
              "    </tr>\n",
              "  </thead>\n",
              "  <tbody>\n",
              "    <tr>\n",
              "      <th>0</th>\n",
              "      <td>624</td>\n",
              "      <td>624</td>\n",
              "      <td>0.00000</td>\n",
              "      <td>13134</td>\n",
              "      <td>3926</td>\n",
              "      <td>False</td>\n",
              "      <td>0</td>\n",
              "      <td>3</td>\n",
              "      <td>1</td>\n",
              "      <td>nan</td>\n",
              "      <td>NaN</td>\n",
              "    </tr>\n",
              "    <tr>\n",
              "      <th>1</th>\n",
              "      <td>625</td>\n",
              "      <td>625</td>\n",
              "      <td>0.00662</td>\n",
              "      <td>13134</td>\n",
              "      <td>564</td>\n",
              "      <td>False</td>\n",
              "      <td>1</td>\n",
              "      <td>1</td>\n",
              "      <td>0</td>\n",
              "      <td>22000.00000</td>\n",
              "      <td>False</td>\n",
              "    </tr>\n",
              "    <tr>\n",
              "      <th>2</th>\n",
              "      <td>626</td>\n",
              "      <td>626</td>\n",
              "      <td>0.01301</td>\n",
              "      <td>13134</td>\n",
              "      <td>3865</td>\n",
              "      <td>False</td>\n",
              "      <td>2</td>\n",
              "      <td>1</td>\n",
              "      <td>0</td>\n",
              "      <td>18000.00000</td>\n",
              "      <td>False</td>\n",
              "    </tr>\n",
              "    <tr>\n",
              "      <th>3</th>\n",
              "      <td>627</td>\n",
              "      <td>627</td>\n",
              "      <td>0.01799</td>\n",
              "      <td>13134</td>\n",
              "      <td>4231</td>\n",
              "      <td>False</td>\n",
              "      <td>3</td>\n",
              "      <td>1</td>\n",
              "      <td>1</td>\n",
              "      <td>19000.00000</td>\n",
              "      <td>False</td>\n",
              "    </tr>\n",
              "    <tr>\n",
              "      <th>4</th>\n",
              "      <td>628</td>\n",
              "      <td>628</td>\n",
              "      <td>0.03139</td>\n",
              "      <td>13134</td>\n",
              "      <td>3684</td>\n",
              "      <td>False</td>\n",
              "      <td>4</td>\n",
              "      <td>1</td>\n",
              "      <td>1</td>\n",
              "      <td>13000.00000</td>\n",
              "      <td>False</td>\n",
              "    </tr>\n",
              "    <tr>\n",
              "      <th>5</th>\n",
              "      <td>629</td>\n",
              "      <td>629</td>\n",
              "      <td>0.05094</td>\n",
              "      <td>13134</td>\n",
              "      <td>3988</td>\n",
              "      <td>False</td>\n",
              "      <td>5</td>\n",
              "      <td>1</td>\n",
              "      <td>0</td>\n",
              "      <td>43000.00000</td>\n",
              "      <td>False</td>\n",
              "    </tr>\n",
              "    <tr>\n",
              "      <th>6</th>\n",
              "      <td>630</td>\n",
              "      <td>630</td>\n",
              "      <td>0.06062</td>\n",
              "      <td>13134</td>\n",
              "      <td>3968</td>\n",
              "      <td>False</td>\n",
              "      <td>6</td>\n",
              "      <td>3</td>\n",
              "      <td>0</td>\n",
              "      <td>65000.00000</td>\n",
              "      <td>False</td>\n",
              "    </tr>\n",
              "    <tr>\n",
              "      <th>7</th>\n",
              "      <td>631</td>\n",
              "      <td>631</td>\n",
              "      <td>0.08273</td>\n",
              "      <td>13134</td>\n",
              "      <td>5219</td>\n",
              "      <td>False</td>\n",
              "      <td>7</td>\n",
              "      <td>0</td>\n",
              "      <td>1</td>\n",
              "      <td>31000.00000</td>\n",
              "      <td>False</td>\n",
              "    </tr>\n",
              "    <tr>\n",
              "      <th>8</th>\n",
              "      <td>632</td>\n",
              "      <td>632</td>\n",
              "      <td>0.09092</td>\n",
              "      <td>13134</td>\n",
              "      <td>4447</td>\n",
              "      <td>False</td>\n",
              "      <td>8</td>\n",
              "      <td>1</td>\n",
              "      <td>1</td>\n",
              "      <td>5000.00000</td>\n",
              "      <td>True</td>\n",
              "    </tr>\n",
              "    <tr>\n",
              "      <th>9</th>\n",
              "      <td>633</td>\n",
              "      <td>633</td>\n",
              "      <td>0.10199</td>\n",
              "      <td>13134</td>\n",
              "      <td>6114</td>\n",
              "      <td>False</td>\n",
              "      <td>9</td>\n",
              "      <td>3</td>\n",
              "      <td>0</td>\n",
              "      <td>17000.00000</td>\n",
              "      <td>True</td>\n",
              "    </tr>\n",
              "  </tbody>\n",
              "</table>\n",
              "</div>"
            ],
            "text/plain": [
              "   Unnamed: 0  ...  prior_question_had_explanation\n",
              "0         624  ...                             NaN\n",
              "1         625  ...                           False\n",
              "2         626  ...                           False\n",
              "3         627  ...                           False\n",
              "4         628  ...                           False\n",
              "5         629  ...                           False\n",
              "6         630  ...                           False\n",
              "7         631  ...                           False\n",
              "8         632  ...                            True\n",
              "9         633  ...                            True\n",
              "\n",
              "[10 rows x 11 columns]"
            ]
          },
          "metadata": {
            "tags": []
          },
          "execution_count": 55
        }
      ]
    },
    {
      "cell_type": "code",
      "metadata": {
        "id": "axKsaACB9kVt"
      },
      "source": [
        "# user_id로 그룹화해서 timestamp보기\n",
        "user_timestamp = sample_train.pivot_table(values='timestamp', index='user_id', aggfunc=['count','max'])\n",
        "user_timestamp.columns = ['count','max']"
      ],
      "execution_count": null,
      "outputs": []
    },
    {
      "cell_type": "code",
      "metadata": {
        "colab": {
          "base_uri": "https://localhost:8080/",
          "height": 391
        },
        "id": "Rn8kYX8Jtzjn",
        "outputId": "9c2095be-2ee8-4365-ddec-4a144db3db78"
      },
      "source": [
        "# histogram\n",
        "fig = plt.figure(figsize=(15,6))\n",
        "user_timestamp['count'].hist(bins=50)\n",
        "fig.show()\n",
        "\n",
        "# min, max of timestamp count\n",
        "max = user_timestamp['count'].max()\n",
        "min = user_timestamp['count'].min()\n",
        "print(f'Max:{max}, Min: {min}')"
      ],
      "execution_count": null,
      "outputs": [
        {
          "output_type": "stream",
          "text": [
            "Max:12304, Min: 7\n"
          ],
          "name": "stdout"
        },
        {
          "output_type": "display_data",
          "data": {
            "image/png": "[encoded data removed]",
            "text/plain": [
              "<Figure size 1080x432 with 1 Axes>"
            ]
          },
          "metadata": {
            "tags": [],
            "needs_background": "light"
          }
        }
      ]
    },
    {
      "cell_type": "code",
      "metadata": {
        "colab": {
          "base_uri": "https://localhost:8080/",
          "height": 408
        },
        "id": "c3_wPTo-uah2",
        "outputId": "720fab4c-3c16-4f0b-8d74-f9ca9628a858"
      },
      "source": [
        "# histogram \n",
        "# medeian보다 작은 수(1863개)\n",
        "print(user_timestamp['count'].mean())\n",
        "print(len(user_timestamp.loc[user_timestamp['count'] >= user_timestamp['count'].mean(), 'count']))\n",
        "fig = plt.figure(figsize=(15,6))\n",
        "user_timestamp.loc[user_timestamp['count'] <= user_timestamp['count'].mean(), 'count'].hist(bins=100)\n",
        "fig.show()\n"
      ],
      "execution_count": null,
      "outputs": [
        {
          "output_type": "stream",
          "text": [
            "267.38975\n",
            "745\n"
          ],
          "name": "stdout"
        },
        {
          "output_type": "display_data",
          "data": {
            "image/png": "[encoded data removed]",
            "text/plain": [
              "<Figure size 1080x432 with 1 Axes>"
            ]
          },
          "metadata": {
            "tags": [],
            "needs_background": "light"
          }
        }
      ]
    },
    {
      "cell_type": "code",
      "metadata": {
        "colab": {
          "base_uri": "https://localhost:8080/",
          "height": 236
        },
        "id": "7WqkVpJLkzWW",
        "outputId": "905f021b-6069-421e-a56d-27609538e801"
      },
      "source": [
        "um = sample_train.groupby('user_id')['answered_correctly'].agg('mean')\n",
        "cnt = user_timestamp['count']\n",
        "a = pd.concat([um, cnt],axis=1)\n",
        "a.head()"
      ],
      "execution_count": null,
      "outputs": [
        {
          "output_type": "execute_result",
          "data": {
            "text/html": [
              "<div>\n",
              "<style scoped>\n",
              "    .dataframe tbody tr th:only-of-type {\n",
              "        vertical-align: middle;\n",
              "    }\n",
              "\n",
              "    .dataframe tbody tr th {\n",
              "        vertical-align: top;\n",
              "    }\n",
              "\n",
              "    .dataframe thead th {\n",
              "        text-align: right;\n",
              "    }\n",
              "</style>\n",
              "<table border=\"1\" class=\"dataframe\">\n",
              "  <thead>\n",
              "    <tr style=\"text-align: right;\">\n",
              "      <th></th>\n",
              "      <th>answered_correctly</th>\n",
              "      <th>count</th>\n",
              "    </tr>\n",
              "    <tr>\n",
              "      <th>user_id</th>\n",
              "      <th></th>\n",
              "      <th></th>\n",
              "    </tr>\n",
              "  </thead>\n",
              "  <tbody>\n",
              "    <tr>\n",
              "      <th>13134</th>\n",
              "      <td>0.69680</td>\n",
              "      <td>1250</td>\n",
              "    </tr>\n",
              "    <tr>\n",
              "      <th>107002</th>\n",
              "      <td>0.79063</td>\n",
              "      <td>1963</td>\n",
              "    </tr>\n",
              "    <tr>\n",
              "      <th>128919</th>\n",
              "      <td>0.33333</td>\n",
              "      <td>30</td>\n",
              "    </tr>\n",
              "    <tr>\n",
              "      <th>384661</th>\n",
              "      <td>0.24528</td>\n",
              "      <td>53</td>\n",
              "    </tr>\n",
              "    <tr>\n",
              "      <th>1526071</th>\n",
              "      <td>0.50000</td>\n",
              "      <td>30</td>\n",
              "    </tr>\n",
              "  </tbody>\n",
              "</table>\n",
              "</div>"
            ],
            "text/plain": [
              "         answered_correctly  count\n",
              "user_id                           \n",
              "13134               0.69680   1250\n",
              "107002              0.79063   1963\n",
              "128919              0.33333     30\n",
              "384661              0.24528     53\n",
              "1526071             0.50000     30"
            ]
          },
          "metadata": {
            "tags": []
          },
          "execution_count": 73
        }
      ]
    },
    {
      "cell_type": "code",
      "metadata": {
        "id": "dbV2Fat_-8Ab"
      },
      "source": [
        "most_active_user = user_timestamp['count'].sort_values(ascending=False).head(50)"
      ],
      "execution_count": null,
      "outputs": []
    },
    {
      "cell_type": "code",
      "metadata": {
        "colab": {
          "base_uri": "https://localhost:8080/",
          "height": 1000
        },
        "id": "GyjBOLoSshuX",
        "outputId": "873db193-9314-4d4e-8597-cfd232af572f"
      },
      "source": [
        "most_active_user = most_active_user.reset_index()\n",
        "most_active_user"
      ],
      "execution_count": null,
      "outputs": [
        {
          "output_type": "execute_result",
          "data": {
            "text/html": [
              "<div>\n",
              "<style scoped>\n",
              "    .dataframe tbody tr th:only-of-type {\n",
              "        vertical-align: middle;\n",
              "    }\n",
              "\n",
              "    .dataframe tbody tr th {\n",
              "        vertical-align: top;\n",
              "    }\n",
              "\n",
              "    .dataframe thead th {\n",
              "        text-align: right;\n",
              "    }\n",
              "</style>\n",
              "<table border=\"1\" class=\"dataframe\">\n",
              "  <thead>\n",
              "    <tr style=\"text-align: right;\">\n",
              "      <th></th>\n",
              "      <th>user_id</th>\n",
              "      <th>count</th>\n",
              "    </tr>\n",
              "  </thead>\n",
              "  <tbody>\n",
              "    <tr>\n",
              "      <th>0</th>\n",
              "      <td>1686819041</td>\n",
              "      <td>12304</td>\n",
              "    </tr>\n",
              "    <tr>\n",
              "      <th>1</th>\n",
              "      <td>1651010857</td>\n",
              "      <td>11079</td>\n",
              "    </tr>\n",
              "    <tr>\n",
              "      <th>2</th>\n",
              "      <td>112539933</td>\n",
              "      <td>10952</td>\n",
              "    </tr>\n",
              "    <tr>\n",
              "      <th>3</th>\n",
              "      <td>1860832105</td>\n",
              "      <td>10014</td>\n",
              "    </tr>\n",
              "    <tr>\n",
              "      <th>4</th>\n",
              "      <td>1291056519</td>\n",
              "      <td>9886</td>\n",
              "    </tr>\n",
              "    <tr>\n",
              "      <th>5</th>\n",
              "      <td>945517326</td>\n",
              "      <td>8552</td>\n",
              "    </tr>\n",
              "    <tr>\n",
              "      <th>6</th>\n",
              "      <td>2106150194</td>\n",
              "      <td>7771</td>\n",
              "    </tr>\n",
              "    <tr>\n",
              "      <th>7</th>\n",
              "      <td>857625949</td>\n",
              "      <td>7687</td>\n",
              "    </tr>\n",
              "    <tr>\n",
              "      <th>8</th>\n",
              "      <td>236398508</td>\n",
              "      <td>7558</td>\n",
              "    </tr>\n",
              "    <tr>\n",
              "      <th>9</th>\n",
              "      <td>912999571</td>\n",
              "      <td>7515</td>\n",
              "    </tr>\n",
              "    <tr>\n",
              "      <th>10</th>\n",
              "      <td>1719899828</td>\n",
              "      <td>7182</td>\n",
              "    </tr>\n",
              "    <tr>\n",
              "      <th>11</th>\n",
              "      <td>1782483794</td>\n",
              "      <td>6495</td>\n",
              "    </tr>\n",
              "    <tr>\n",
              "      <th>12</th>\n",
              "      <td>1674685394</td>\n",
              "      <td>6363</td>\n",
              "    </tr>\n",
              "    <tr>\n",
              "      <th>13</th>\n",
              "      <td>796266648</td>\n",
              "      <td>6150</td>\n",
              "    </tr>\n",
              "    <tr>\n",
              "      <th>14</th>\n",
              "      <td>215862011</td>\n",
              "      <td>6141</td>\n",
              "    </tr>\n",
              "    <tr>\n",
              "      <th>15</th>\n",
              "      <td>2076898085</td>\n",
              "      <td>5962</td>\n",
              "    </tr>\n",
              "    <tr>\n",
              "      <th>16</th>\n",
              "      <td>730620881</td>\n",
              "      <td>5532</td>\n",
              "    </tr>\n",
              "    <tr>\n",
              "      <th>17</th>\n",
              "      <td>881484499</td>\n",
              "      <td>5493</td>\n",
              "    </tr>\n",
              "    <tr>\n",
              "      <th>18</th>\n",
              "      <td>1275567794</td>\n",
              "      <td>5460</td>\n",
              "    </tr>\n",
              "    <tr>\n",
              "      <th>19</th>\n",
              "      <td>1625338316</td>\n",
              "      <td>5074</td>\n",
              "    </tr>\n",
              "    <tr>\n",
              "      <th>20</th>\n",
              "      <td>552724753</td>\n",
              "      <td>5045</td>\n",
              "    </tr>\n",
              "    <tr>\n",
              "      <th>21</th>\n",
              "      <td>15963574</td>\n",
              "      <td>4938</td>\n",
              "    </tr>\n",
              "    <tr>\n",
              "      <th>22</th>\n",
              "      <td>1768353068</td>\n",
              "      <td>4880</td>\n",
              "    </tr>\n",
              "    <tr>\n",
              "      <th>23</th>\n",
              "      <td>1413278191</td>\n",
              "      <td>4659</td>\n",
              "    </tr>\n",
              "    <tr>\n",
              "      <th>24</th>\n",
              "      <td>1862342421</td>\n",
              "      <td>4618</td>\n",
              "    </tr>\n",
              "    <tr>\n",
              "      <th>25</th>\n",
              "      <td>403273066</td>\n",
              "      <td>4544</td>\n",
              "    </tr>\n",
              "    <tr>\n",
              "      <th>26</th>\n",
              "      <td>1948310198</td>\n",
              "      <td>4367</td>\n",
              "    </tr>\n",
              "    <tr>\n",
              "      <th>27</th>\n",
              "      <td>200819740</td>\n",
              "      <td>4343</td>\n",
              "    </tr>\n",
              "    <tr>\n",
              "      <th>28</th>\n",
              "      <td>795232545</td>\n",
              "      <td>4291</td>\n",
              "    </tr>\n",
              "    <tr>\n",
              "      <th>29</th>\n",
              "      <td>144099768</td>\n",
              "      <td>4278</td>\n",
              "    </tr>\n",
              "    <tr>\n",
              "      <th>30</th>\n",
              "      <td>200690424</td>\n",
              "      <td>4112</td>\n",
              "    </tr>\n",
              "    <tr>\n",
              "      <th>31</th>\n",
              "      <td>596735430</td>\n",
              "      <td>4009</td>\n",
              "    </tr>\n",
              "    <tr>\n",
              "      <th>32</th>\n",
              "      <td>580978949</td>\n",
              "      <td>3932</td>\n",
              "    </tr>\n",
              "    <tr>\n",
              "      <th>33</th>\n",
              "      <td>921611314</td>\n",
              "      <td>3863</td>\n",
              "    </tr>\n",
              "    <tr>\n",
              "      <th>34</th>\n",
              "      <td>1526264638</td>\n",
              "      <td>3859</td>\n",
              "    </tr>\n",
              "    <tr>\n",
              "      <th>35</th>\n",
              "      <td>1006319705</td>\n",
              "      <td>3785</td>\n",
              "    </tr>\n",
              "    <tr>\n",
              "      <th>36</th>\n",
              "      <td>534814622</td>\n",
              "      <td>3774</td>\n",
              "    </tr>\n",
              "    <tr>\n",
              "      <th>37</th>\n",
              "      <td>2035319670</td>\n",
              "      <td>3712</td>\n",
              "    </tr>\n",
              "    <tr>\n",
              "      <th>38</th>\n",
              "      <td>765882244</td>\n",
              "      <td>3694</td>\n",
              "    </tr>\n",
              "    <tr>\n",
              "      <th>39</th>\n",
              "      <td>2026139983</td>\n",
              "      <td>3681</td>\n",
              "    </tr>\n",
              "    <tr>\n",
              "      <th>40</th>\n",
              "      <td>584981080</td>\n",
              "      <td>3676</td>\n",
              "    </tr>\n",
              "    <tr>\n",
              "      <th>41</th>\n",
              "      <td>565264245</td>\n",
              "      <td>3586</td>\n",
              "    </tr>\n",
              "    <tr>\n",
              "      <th>42</th>\n",
              "      <td>487775850</td>\n",
              "      <td>3571</td>\n",
              "    </tr>\n",
              "    <tr>\n",
              "      <th>43</th>\n",
              "      <td>377605999</td>\n",
              "      <td>3555</td>\n",
              "    </tr>\n",
              "    <tr>\n",
              "      <th>44</th>\n",
              "      <td>1261090443</td>\n",
              "      <td>3541</td>\n",
              "    </tr>\n",
              "    <tr>\n",
              "      <th>45</th>\n",
              "      <td>1484101734</td>\n",
              "      <td>3387</td>\n",
              "    </tr>\n",
              "    <tr>\n",
              "      <th>46</th>\n",
              "      <td>539157029</td>\n",
              "      <td>3378</td>\n",
              "    </tr>\n",
              "    <tr>\n",
              "      <th>47</th>\n",
              "      <td>270426519</td>\n",
              "      <td>3359</td>\n",
              "    </tr>\n",
              "    <tr>\n",
              "      <th>48</th>\n",
              "      <td>1994253354</td>\n",
              "      <td>3340</td>\n",
              "    </tr>\n",
              "    <tr>\n",
              "      <th>49</th>\n",
              "      <td>1416411191</td>\n",
              "      <td>3316</td>\n",
              "    </tr>\n",
              "  </tbody>\n",
              "</table>\n",
              "</div>"
            ],
            "text/plain": [
              "       user_id  count\n",
              "0   1686819041  12304\n",
              "1   1651010857  11079\n",
              "2    112539933  10952\n",
              "3   1860832105  10014\n",
              "4   1291056519   9886\n",
              "5    945517326   8552\n",
              "6   2106150194   7771\n",
              "7    857625949   7687\n",
              "8    236398508   7558\n",
              "9    912999571   7515\n",
              "10  1719899828   7182\n",
              "11  1782483794   6495\n",
              "12  1674685394   6363\n",
              "13   796266648   6150\n",
              "14   215862011   6141\n",
              "15  2076898085   5962\n",
              "16   730620881   5532\n",
              "17   881484499   5493\n",
              "18  1275567794   5460\n",
              "19  1625338316   5074\n",
              "20   552724753   5045\n",
              "21    15963574   4938\n",
              "22  1768353068   4880\n",
              "23  1413278191   4659\n",
              "24  1862342421   4618\n",
              "25   403273066   4544\n",
              "26  1948310198   4367\n",
              "27   200819740   4343\n",
              "28   795232545   4291\n",
              "29   144099768   4278\n",
              "30   200690424   4112\n",
              "31   596735430   4009\n",
              "32   580978949   3932\n",
              "33   921611314   3863\n",
              "34  1526264638   3859\n",
              "35  1006319705   3785\n",
              "36   534814622   3774\n",
              "37  2035319670   3712\n",
              "38   765882244   3694\n",
              "39  2026139983   3681\n",
              "40   584981080   3676\n",
              "41   565264245   3586\n",
              "42   487775850   3571\n",
              "43   377605999   3555\n",
              "44  1261090443   3541\n",
              "45  1484101734   3387\n",
              "46   539157029   3378\n",
              "47   270426519   3359\n",
              "48  1994253354   3340\n",
              "49  1416411191   3316"
            ]
          },
          "metadata": {
            "tags": []
          },
          "execution_count": 61
        }
      ]
    },
    {
      "cell_type": "code",
      "metadata": {
        "colab": {
          "base_uri": "https://localhost:8080/",
          "height": 877
        },
        "id": "rxgEdZipsKfz",
        "outputId": "f17824bb-df14-413d-bc67-dbaf86d60ae0"
      },
      "source": [
        "fig = plt.figure(figsize = (10,15))\n",
        "sns.barplot(data=most_active_user, \n",
        "            x='count', y='user_id', \n",
        "            orient ='h', \n",
        "            order=most_active_user.user_id, \n",
        "            palette = 'Blues_r')\n",
        "fig.show()"
      ],
      "execution_count": null,
      "outputs": [
        {
          "output_type": "display_data",
          "data": {
            "image/png": "[encoded data removed]",
            "text/plain": [
              "<Figure size 720x1080 with 1 Axes>"
            ]
          },
          "metadata": {
            "tags": [],
            "needs_background": "light"
          }
        }
      ]
    },
    {
      "cell_type": "markdown",
      "metadata": {
        "id": "lAXN2DFnt8mH"
      },
      "source": [
        "1. user_id로 그룹해서 해서 본 timestamp의 수\n",
        "- 타임스탬프 수 최소는 7 최대는 12304번\n",
        "- 히스토그램을 보면 상당수가 0에 가까움\n",
        "- 전체 4000명 중 중위값보다 적게 들어온 학생의 수는 1864\n",
        "- 전체 4000명 중 평균(267)보다 많이 들어온 학생 수는 745\n",
        "\n",
        "> active_users의 기준이 될 수 있을까?  \n",
        "active_users와 answered_correctly의 상관관계는?"
      ]
    },
    {
      "cell_type": "code",
      "metadata": {
        "id": "1b9JbZFpBQGi"
      },
      "source": [
        "max_timestamp = user_timestamp['max'].sort_values(ascending=False)"
      ],
      "execution_count": null,
      "outputs": []
    },
    {
      "cell_type": "code",
      "metadata": {
        "colab": {
          "base_uri": "https://localhost:8080/"
        },
        "id": "pOwvFRW8LlLh",
        "outputId": "f7e79ff4-b39a-483f-edcc-cece150a83e4"
      },
      "source": [
        "pd.options.display.float_format = '{:.5f}'.format\n",
        "max_timestamp.describe()"
      ],
      "execution_count": null,
      "outputs": [
        {
          "output_type": "execute_result",
          "data": {
            "text/plain": [
              "count          4000.00000\n",
              "mean     5187405873.41200\n",
              "std     10590173863.71894\n",
              "min           58207.00000\n",
              "25%         1137716.00000\n",
              "50%       348216550.50000\n",
              "75%      4751560401.75000\n",
              "max     78539766992.00000\n",
              "Name: max, dtype: float64"
            ]
          },
          "metadata": {
            "tags": []
          },
          "execution_count": 134
        }
      ]
    },
    {
      "cell_type": "code",
      "metadata": {
        "colab": {
          "base_uri": "https://localhost:8080/",
          "height": 295
        },
        "id": "zBDtVI9VsKhW",
        "outputId": "896cd148-6d47-4d72-a466-c2184b64ef28"
      },
      "source": [
        "max_timestamp.hist(bins=100)"
      ],
      "execution_count": null,
      "outputs": [
        {
          "output_type": "execute_result",
          "data": {
            "text/plain": [
              "<matplotlib.axes._subplots.AxesSubplot at 0x7f96852807d0>"
            ]
          },
          "metadata": {
            "tags": []
          },
          "execution_count": 135
        },
        {
          "output_type": "display_data",
          "data": {
            "image/png": "[encoded data removed]",
            "text/plain": [
              "<Figure size 432x288 with 1 Axes>"
            ]
          },
          "metadata": {
            "tags": [],
            "needs_background": "light"
          }
        }
      ]
    },
    {
      "cell_type": "code",
      "metadata": {
        "id": "QNbcONI104ca"
      },
      "source": [
        "mean, min, median, max = max_timestamp.describe()[['mean', 'min', '50%', 'max']]"
      ],
      "execution_count": null,
      "outputs": []
    },
    {
      "cell_type": "code",
      "metadata": {
        "colab": {
          "base_uri": "https://localhost:8080/",
          "height": 282
        },
        "id": "ihreEDx204Zy",
        "outputId": "77c62f56-bf6e-4e41-ae99-07ecebf2fe89"
      },
      "source": [
        "max_timestamp[max_timestamp>=30].hist(bins=50) "
      ],
      "execution_count": null,
      "outputs": [
        {
          "output_type": "execute_result",
          "data": {
            "text/plain": [
              "<matplotlib.axes._subplots.AxesSubplot at 0x7eff15581e10>"
            ]
          },
          "metadata": {
            "tags": []
          },
          "execution_count": 135
        },
        {
          "output_type": "display_data",
          "data": {
            "image/png": "[encoded data removed]",
            "text/plain": [
              "<Figure size 432x288 with 1 Axes>"
            ]
          },
          "metadata": {
            "tags": [],
            "needs_background": "light"
          }
        }
      ]
    },
    {
      "cell_type": "code",
      "metadata": {
        "colab": {
          "base_uri": "https://localhost:8080/"
        },
        "id": "FVYsMUlV04Xg",
        "outputId": "304d1e5c-2c2b-4bc1-cc45-2b7d270b330c"
      },
      "source": [
        "len(max_timestamp[max_timestamp>=30])"
      ],
      "execution_count": null,
      "outputs": [
        {
          "output_type": "execute_result",
          "data": {
            "text/plain": [
              "1316"
            ]
          },
          "metadata": {
            "tags": []
          },
          "execution_count": 136
        }
      ]
    },
    {
      "cell_type": "markdown",
      "metadata": {
        "id": "hxmFl6cw0v-f"
      },
      "source": [
        "2. max timestamp\n",
        "- max 역시 0에 가깝다\n",
        "- 절반 이상이 4일이 지나면 더 들어오지 않는다 -> 학습 효과가 좋지 않을 것\n",
        "- 산타토익을 20시간 이용시 124점이 오른다고 하지만 유료 이용권 구매의 최소단위가 30일이기 때문에 max가 30일 이상인 경우에 학습효과가 있다고 보자(그러면 4000명 중 1316명)"
      ]
    },
    {
      "cell_type": "markdown",
      "metadata": {
        "id": "akWkO4EU8A62"
      },
      "source": [
        "### feature engineering : timestamp\n",
        "1) count가 평균 이상인 학생. -> 이것도 이상하게 나옴  \n",
        "2) max가 30이상인 타임스탬프-> 이건 이상하게 나옴  \n",
        "\n",
        "다시 시도  \n",
        "3) 타임스탬프를 5개로 나눠서 보았음 -> 5개 구간에 차이가 있음  \n",
        "4) 카운트도 5개로 나눠서 볼까? -> 의미있음!!"
      ]
    },
    {
      "cell_type": "markdown",
      "metadata": {
        "id": "BGVYKjwirvVW"
      },
      "source": [
        "#### 이상한 거"
      ]
    },
    {
      "cell_type": "code",
      "metadata": {
        "id": "mcqaMp724HT5"
      },
      "source": [
        "idx_count_user = user_timestamp.loc[user_timestamp['count'] <= user_timestamp['count'].mean(), 'count'].index"
      ],
      "execution_count": null,
      "outputs": []
    },
    {
      "cell_type": "code",
      "metadata": {
        "id": "QUQwbyLX4UQh"
      },
      "source": [
        "sample_train['count>mean'] = sample_train.user_id.isin(idx_count_user)"
      ],
      "execution_count": null,
      "outputs": []
    },
    {
      "cell_type": "code",
      "metadata": {
        "id": "PXHyhjZ34fCi"
      },
      "source": [
        "bins = [-1, 30, 56, 119, 227, 910]\n",
        "sample_train['timestamp_bins']=pd.cut(sample_train['timestamp'], bins=bins, labels=[0,1,2,3,4])"
      ],
      "execution_count": null,
      "outputs": []
    },
    {
      "cell_type": "code",
      "metadata": {
        "colab": {
          "base_uri": "https://localhost:8080/"
        },
        "id": "sI1bE7KA4xiJ",
        "outputId": "5408d207-5e39-400a-faf2-172682881a5d"
      },
      "source": [
        "sample_train.timestamp_bins.unique()"
      ],
      "execution_count": null,
      "outputs": [
        {
          "output_type": "execute_result",
          "data": {
            "text/plain": [
              "[0, 2, 3, 1, 4]\n",
              "Categories (5, int64): [0 < 1 < 2 < 3 < 4]"
            ]
          },
          "metadata": {
            "tags": []
          },
          "execution_count": 37
        }
      ]
    },
    {
      "cell_type": "code",
      "metadata": {
        "colab": {
          "base_uri": "https://localhost:8080/",
          "height": 297
        },
        "id": "yg5vj-4f6jRB",
        "outputId": "9d74456e-0963-4cac-cd55-52e333ca00f8"
      },
      "source": [
        "sns.countplot(data=sample_train, x='answered_correctly', hue='count>mean')"
      ],
      "execution_count": null,
      "outputs": [
        {
          "output_type": "execute_result",
          "data": {
            "text/plain": [
              "<matplotlib.axes._subplots.AxesSubplot at 0x7fc1263fd450>"
            ]
          },
          "metadata": {
            "tags": []
          },
          "execution_count": 38
        },
        {
          "output_type": "display_data",
          "data": {
            "image/png": "[encoded data removed]",
            "text/plain": [
              "<Figure size 432x288 with 1 Axes>"
            ]
          },
          "metadata": {
            "tags": [],
            "needs_background": "light"
          }
        }
      ]
    },
    {
      "cell_type": "code",
      "metadata": {
        "colab": {
          "base_uri": "https://localhost:8080/",
          "height": 351
        },
        "id": "hHFKUqiY8k3h",
        "outputId": "392179db-a9f3-43a2-99eb-bfc5b84714a2"
      },
      "source": [
        "sns.countplot(sample_train['count>mean'])"
      ],
      "execution_count": null,
      "outputs": [
        {
          "output_type": "stream",
          "text": [
            "/usr/local/lib/python3.7/dist-packages/seaborn/_decorators.py:43: FutureWarning: Pass the following variable as a keyword arg: x. From version 0.12, the only valid positional argument will be `data`, and passing other arguments without an explicit keyword will result in an error or misinterpretation.\n",
            "  FutureWarning\n"
          ],
          "name": "stderr"
        },
        {
          "output_type": "execute_result",
          "data": {
            "text/plain": [
              "<matplotlib.axes._subplots.AxesSubplot at 0x7fc12682c950>"
            ]
          },
          "metadata": {
            "tags": []
          },
          "execution_count": 39
        },
        {
          "output_type": "display_data",
          "data": {
            "image/png": "[encoded data removed]",
            "text/plain": [
              "<Figure size 432x288 with 1 Axes>"
            ]
          },
          "metadata": {
            "tags": [],
            "needs_background": "light"
          }
        }
      ]
    },
    {
      "cell_type": "markdown",
      "metadata": {
        "id": "P5wh8MWfry1-"
      },
      "source": [
        "#### 다시 한 거"
      ]
    },
    {
      "cell_type": "code",
      "metadata": {
        "colab": {
          "base_uri": "https://localhost:8080/",
          "height": 391
        },
        "id": "bvMdwARv9DZL",
        "outputId": "2915b980-b497-41c2-9e06-568b629d91d6"
      },
      "source": [
        "bin_labels_5 = ['Bin_1', 'Bin_2', 'Bin_3', 'Bin_4', 'Bin_5']\n",
        "sample_train['ts_bin'] = pd.qcut(sample_train['timestamp'], q=5, labels=bin_labels_5)\n",
        "\n",
        "#make function that can also be used for other fields\n",
        "def correct(field):\n",
        "    correct = sample_train[sample_train.answered_correctly != -1].groupby([field, 'answered_correctly'], as_index=False).size()\n",
        "    correct = correct.pivot(index= field, columns='answered_correctly', values='size')\n",
        "    correct['Percent_correct'] = round(correct.iloc[:,1]/(correct.iloc[:,0] + correct.iloc[:,1]),2)\n",
        "    correct = correct.sort_values(by = \"Percent_correct\", ascending = False)\n",
        "    correct = correct.iloc[:,2]\n",
        "    return(correct)\n",
        "\n",
        "bins_correct = correct(\"ts_bin\")\n",
        "bins_correct = bins_correct.sort_index()\n",
        "bins_correct\n",
        "\n",
        "fig = plt.figure(figsize=(12,6))\n",
        "plt.bar(bins_correct.index, bins_correct.values)\n",
        "for i, v in zip(bins_correct.index, bins_correct.values):\n",
        "    plt.text(i, v, v, color='white', fontweight='bold', fontsize=14, va='top', ha='center')\n",
        "plt.title(\"Percent answered_correctly for 5 bins of timestamp\")\n",
        "plt.xticks(rotation=0)\n",
        "plt.show()"
      ],
      "execution_count": null,
      "outputs": [
        {
          "output_type": "display_data",
          "data": {
            "image/png": "[encoded data removed]",
            "text/plain": [
              "<Figure size 864x432 with 1 Axes>"
            ]
          },
          "metadata": {
            "tags": [],
            "needs_background": "light"
          }
        }
      ]
    },
    {
      "cell_type": "code",
      "metadata": {
        "id": "osixoVJkBvBM"
      },
      "source": [
        "freq_labels_5 = ['freq_1', 'freq_2', 'freq_3', 'freq_4', 'freq_5']\n",
        "freq_user = pd.qcut(user_timestamp['count'].sort_values(), q=5, labels=freq_labels_5).reset_index()"
      ],
      "execution_count": null,
      "outputs": []
    },
    {
      "cell_type": "code",
      "metadata": {
        "id": "_DIQYl2rCEX7"
      },
      "source": [
        "freq1_user = freq_user[freq_user['count'] == 'freq_1'].user_id\n",
        "freq2_user = freq_user[freq_user['count'] == 'freq_2'].user_id\n",
        "freq3_user = freq_user[freq_user['count'] == 'freq_3'].user_id\n",
        "freq4_user = freq_user[freq_user['count'] == 'freq_4'].user_id\n",
        "freq5_user = freq_user[freq_user['count'] == 'freq_5'].user_id"
      ],
      "execution_count": null,
      "outputs": []
    },
    {
      "cell_type": "code",
      "metadata": {
        "id": "PJW8VrqkCa0g"
      },
      "source": [
        "sample_train['user_freq'] = sample_train.user_id\n",
        "if sample_train['user_id'].isin(freq1_user).any() :\n",
        "    sample_train.loc[sample_train[sample_train['user_id'].isin(freq1_user)].index, ['user_freq']] = 'freq_1'"
      ],
      "execution_count": null,
      "outputs": []
    },
    {
      "cell_type": "code",
      "metadata": {
        "id": "G0iju9aRDc3_"
      },
      "source": [
        "if sample_train['user_id'].isin(freq2_user).any() :\n",
        "    sample_train.loc[sample_train[sample_train['user_id'].isin(freq2_user)].index, ['user_freq']] = 'freq_2'\n",
        "if sample_train['user_id'].isin(freq3_user).any() :\n",
        "    sample_train.loc[sample_train[sample_train['user_id'].isin(freq3_user)].index, ['user_freq']] = 'freq_3'\n",
        "if sample_train['user_id'].isin(freq4_user).any() :\n",
        "    sample_train.loc[sample_train[sample_train['user_id'].isin(freq4_user)].index, ['user_freq']] = 'freq_4'\n",
        "if sample_train['user_id'].isin(freq5_user).any() :\n",
        "    sample_train.loc[sample_train[sample_train['user_id'].isin(freq5_user)].index, ['user_freq']] = 'freq_5'"
      ],
      "execution_count": null,
      "outputs": []
    },
    {
      "cell_type": "code",
      "metadata": {
        "colab": {
          "base_uri": "https://localhost:8080/",
          "height": 391
        },
        "id": "uuZDxGdIEB_G",
        "outputId": "594c2908-88c0-4268-e02c-476f2424dea1"
      },
      "source": [
        "freq_correct = correct(\"user_freq\")\n",
        "freq_correct = freq_correct.sort_index()\n",
        "freq_correct\n",
        "\n",
        "fig = plt.figure(figsize=(12,6))\n",
        "plt.bar(freq_correct.index, freq_correct.values)\n",
        "for i, v in zip(freq_correct.index, freq_correct.values):\n",
        "    plt.text(i, v, v, color='white', fontweight='bold', fontsize=14, va='top', ha='center')\n",
        "plt.title(\"Percent answered_correctly for 5 bins of frequency\")\n",
        "plt.xticks(rotation=0)\n",
        "plt.show()"
      ],
      "execution_count": null,
      "outputs": [
        {
          "output_type": "display_data",
          "data": {
            "image/png": "[encoded data removed]",
            "text/plain": [
              "<Figure size 864x432 with 1 Axes>"
            ]
          },
          "metadata": {
            "tags": [],
            "needs_background": "light"
          }
        }
      ]
    },
    {
      "cell_type": "markdown",
      "metadata": {
        "id": "SE5lWTPCGBxH"
      },
      "source": [
        "1. timestamp를 5단계로 나눴을 때 시간이 오래될수록 정답률이 올라가는 경향을 보이지만 마지막 구간에서는 정답률이 줄어들었다. 왤까? 너무 오랜만에 들어와서 그런가? \n",
        "2. timestamp의 수는 학생이 얼마나 자주 이용하였는가를 보여준다. 첫번째 구간은 가장 적게 이용하는 학생들이지만 두번째 구간보다 높다. 아마 잘하는 학생들이 그냥 맛보기로 한 경우가 많지 않을까?(나의 경험) 두번째 구간부터는 정답률이 올라간다. 즉, 자주 사용할수록 정답률이 올라간다는 것.\n",
        "3. 문제 : 그래서 이것을 어떻게 정오답 예측에 이용할 것인가? 특히 두번째는 약간 애매한데 위에서 사용한 것보다 더 간단하게 freq를 적용할 수 있는 방법을 찾아봐야겠다."
      ]
    },
    {
      "cell_type": "code",
      "metadata": {
        "colab": {
          "base_uri": "https://localhost:8080/",
          "height": 243
        },
        "id": "Fy5l3qXJGBcr",
        "outputId": "1f59e2b8-46f2-4523-b9b5-dd2115c129db"
      },
      "source": [
        "# data 정리\n",
        "# sample_train = sample_train.drop(['Unnamed: 0', 'count>mean', 'timestamp_bins'], axis=1)\n",
        "sample_train.head()"
      ],
      "execution_count": null,
      "outputs": [
        {
          "output_type": "execute_result",
          "data": {
            "text/html": [
              "<div>\n",
              "<style scoped>\n",
              "    .dataframe tbody tr th:only-of-type {\n",
              "        vertical-align: middle;\n",
              "    }\n",
              "\n",
              "    .dataframe tbody tr th {\n",
              "        vertical-align: top;\n",
              "    }\n",
              "\n",
              "    .dataframe thead th {\n",
              "        text-align: right;\n",
              "    }\n",
              "</style>\n",
              "<table border=\"1\" class=\"dataframe\">\n",
              "  <thead>\n",
              "    <tr style=\"text-align: right;\">\n",
              "      <th></th>\n",
              "      <th>Unnamed: 0</th>\n",
              "      <th>row_id</th>\n",
              "      <th>timestamp</th>\n",
              "      <th>user_id</th>\n",
              "      <th>content_id</th>\n",
              "      <th>content_type_id</th>\n",
              "      <th>task_container_id</th>\n",
              "      <th>user_answer</th>\n",
              "      <th>answered_correctly</th>\n",
              "      <th>prior_question_elapsed_time</th>\n",
              "      <th>prior_question_had_explanation</th>\n",
              "      <th>count&gt;mean</th>\n",
              "      <th>ts_bin</th>\n",
              "      <th>user_freq</th>\n",
              "    </tr>\n",
              "  </thead>\n",
              "  <tbody>\n",
              "    <tr>\n",
              "      <th>0</th>\n",
              "      <td>624</td>\n",
              "      <td>624</td>\n",
              "      <td>0.000000</td>\n",
              "      <td>13134</td>\n",
              "      <td>3926</td>\n",
              "      <td>False</td>\n",
              "      <td>0</td>\n",
              "      <td>3</td>\n",
              "      <td>1</td>\n",
              "      <td>NaN</td>\n",
              "      <td>NaN</td>\n",
              "      <td>False</td>\n",
              "      <td>Bin_1</td>\n",
              "      <td>freq_5</td>\n",
              "    </tr>\n",
              "    <tr>\n",
              "      <th>1</th>\n",
              "      <td>625</td>\n",
              "      <td>625</td>\n",
              "      <td>0.000276</td>\n",
              "      <td>13134</td>\n",
              "      <td>564</td>\n",
              "      <td>False</td>\n",
              "      <td>1</td>\n",
              "      <td>1</td>\n",
              "      <td>0</td>\n",
              "      <td>22000.0</td>\n",
              "      <td>False</td>\n",
              "      <td>False</td>\n",
              "      <td>Bin_1</td>\n",
              "      <td>freq_5</td>\n",
              "    </tr>\n",
              "    <tr>\n",
              "      <th>2</th>\n",
              "      <td>626</td>\n",
              "      <td>626</td>\n",
              "      <td>0.000542</td>\n",
              "      <td>13134</td>\n",
              "      <td>3865</td>\n",
              "      <td>False</td>\n",
              "      <td>2</td>\n",
              "      <td>1</td>\n",
              "      <td>0</td>\n",
              "      <td>18000.0</td>\n",
              "      <td>False</td>\n",
              "      <td>False</td>\n",
              "      <td>Bin_1</td>\n",
              "      <td>freq_5</td>\n",
              "    </tr>\n",
              "    <tr>\n",
              "      <th>3</th>\n",
              "      <td>627</td>\n",
              "      <td>627</td>\n",
              "      <td>0.000749</td>\n",
              "      <td>13134</td>\n",
              "      <td>4231</td>\n",
              "      <td>False</td>\n",
              "      <td>3</td>\n",
              "      <td>1</td>\n",
              "      <td>1</td>\n",
              "      <td>19000.0</td>\n",
              "      <td>False</td>\n",
              "      <td>False</td>\n",
              "      <td>Bin_1</td>\n",
              "      <td>freq_5</td>\n",
              "    </tr>\n",
              "    <tr>\n",
              "      <th>4</th>\n",
              "      <td>628</td>\n",
              "      <td>628</td>\n",
              "      <td>0.001308</td>\n",
              "      <td>13134</td>\n",
              "      <td>3684</td>\n",
              "      <td>False</td>\n",
              "      <td>4</td>\n",
              "      <td>1</td>\n",
              "      <td>1</td>\n",
              "      <td>13000.0</td>\n",
              "      <td>False</td>\n",
              "      <td>False</td>\n",
              "      <td>Bin_1</td>\n",
              "      <td>freq_5</td>\n",
              "    </tr>\n",
              "  </tbody>\n",
              "</table>\n",
              "</div>"
            ],
            "text/plain": [
              "   Unnamed: 0  row_id  timestamp  ...  count>mean  ts_bin  user_freq\n",
              "0         624     624   0.000000  ...       False   Bin_1     freq_5\n",
              "1         625     625   0.000276  ...       False   Bin_1     freq_5\n",
              "2         626     626   0.000542  ...       False   Bin_1     freq_5\n",
              "3         627     627   0.000749  ...       False   Bin_1     freq_5\n",
              "4         628     628   0.001308  ...       False   Bin_1     freq_5\n",
              "\n",
              "[5 rows x 14 columns]"
            ]
          },
          "metadata": {
            "tags": []
          },
          "execution_count": 145
        }
      ]
    },
    {
      "cell_type": "markdown",
      "metadata": {
        "id": "ow9QNYYlKbwT"
      },
      "source": [
        "### content"
      ]
    },
    {
      "cell_type": "code",
      "metadata": {
        "colab": {
          "base_uri": "https://localhost:8080/",
          "height": 308
        },
        "id": "HcZITaoRFLBx",
        "outputId": "76f198ec-7a79-41f7-f34b-7327e588f51b"
      },
      "source": [
        "# content_type_id\n",
        "\n",
        "sample_train.content_type_id.value_counts(normalize=True)\n",
        "#false = question\n",
        "#true = lecture\n",
        "\n",
        "sns.countplot(data=sample_train, x='content_type_id') \n",
        "# 98%가 question, 2%가 lecture\n",
        "\n"
      ],
      "execution_count": null,
      "outputs": [
        {
          "output_type": "execute_result",
          "data": {
            "text/plain": [
              "<matplotlib.axes._subplots.AxesSubplot at 0x7eff161dab10>"
            ]
          },
          "metadata": {
            "tags": []
          },
          "execution_count": 146
        },
        {
          "output_type": "display_data",
          "data": {
            "image/png": "[encoded data removed]",
            "text/plain": [
              "<Figure size 432x288 with 1 Axes>"
            ]
          },
          "metadata": {
            "tags": [],
            "needs_background": "light"
          }
        }
      ]
    },
    {
      "cell_type": "code",
      "metadata": {
        "colab": {
          "base_uri": "https://localhost:8080/"
        },
        "id": "XyugrYlzKqr_",
        "outputId": "074c1866-a6bd-4ae6-b842-7fc66da25124"
      },
      "source": [
        "# lecture인 것은 지우자\n",
        "idx = sample_train[sample_train.content_type_id == True].index\n",
        "sample_train = sample_train.drop(idx).reset_index(drop=True)\n",
        "len(sample_train[sample_train.content_type_id == True])"
      ],
      "execution_count": null,
      "outputs": [
        {
          "output_type": "execute_result",
          "data": {
            "text/plain": [
              "0"
            ]
          },
          "metadata": {
            "tags": []
          },
          "execution_count": 147
        }
      ]
    },
    {
      "cell_type": "code",
      "metadata": {
        "colab": {
          "base_uri": "https://localhost:8080/"
        },
        "id": "S9wBDGNIt5_k",
        "outputId": "90d36a45-4f4a-4195-a6b6-67ebc802e34f"
      },
      "source": [
        "# task_container_id\n",
        "sample_train.task_container_id.unique() # task_container_id는 총 만개(다 question)\n",
        "sample_train.task_container_id.value_counts() \n"
      ],
      "execution_count": null,
      "outputs": [
        {
          "output_type": "execute_result",
          "data": {
            "text/plain": [
              "14      8208\n",
              "15      8139\n",
              "4       7083\n",
              "5       7045\n",
              "6       7032\n",
              "        ... \n",
              "9185       1\n",
              "9853       1\n",
              "9646       1\n",
              "9645       1\n",
              "9719       1\n",
              "Name: task_container_id, Length: 10000, dtype: int64"
            ]
          },
          "metadata": {
            "tags": []
          },
          "execution_count": 148
        }
      ]
    },
    {
      "cell_type": "code",
      "metadata": {
        "colab": {
          "base_uri": "https://localhost:8080/"
        },
        "id": "BV9K5640uUSX",
        "outputId": "9056ac30-e420-4242-c8b3-53e1a4252968"
      },
      "source": [
        "sample_train.task_container_id.value_counts().describe()\n",
        "\n",
        "# 제일 많이 푼 taks container는 8208번 50%는 13번 \n",
        "# 많이 푼 문제는 좀 쉬운 문제일까?"
      ],
      "execution_count": null,
      "outputs": [
        {
          "output_type": "execute_result",
          "data": {
            "text/plain": [
              "count    10000.000000\n",
              "mean       104.919600\n",
              "std        335.093642\n",
              "min          1.000000\n",
              "25%          4.000000\n",
              "50%         13.000000\n",
              "75%         61.000000\n",
              "max       8208.000000\n",
              "Name: task_container_id, dtype: float64"
            ]
          },
          "metadata": {
            "tags": []
          },
          "execution_count": 149
        }
      ]
    },
    {
      "cell_type": "code",
      "metadata": {
        "colab": {
          "base_uri": "https://localhost:8080/",
          "height": 282
        },
        "id": "g5TKR4oQw80s",
        "outputId": "f90ca6e3-fe8e-47e1-cc73-2888d4ed700b"
      },
      "source": [
        "sample_train.loc[(sample_train.task_container_id >=0) & (sample_train.task_container_id<=5000), 'task_container_id'].hist(bins=1000)\n",
        "# 숫자 번호가 작을수록 많이 풀었고 클수록 적게 풀었다. \n",
        "# 숫자 번호가 작을수록 먼저 제시되는 질문일 확률이 높겠다."
      ],
      "execution_count": null,
      "outputs": [
        {
          "output_type": "execute_result",
          "data": {
            "text/plain": [
              "<matplotlib.axes._subplots.AxesSubplot at 0x7eff15388290>"
            ]
          },
          "metadata": {
            "tags": []
          },
          "execution_count": 150
        },
        {
          "output_type": "display_data",
          "data": {
            "image/png": "[encoded data removed]",
            "text/plain": [
              "<Figure size 432x288 with 1 Axes>"
            ]
          },
          "metadata": {
            "tags": [],
            "needs_background": "light"
          }
        }
      ]
    },
    {
      "cell_type": "code",
      "metadata": {
        "colab": {
          "base_uri": "https://localhost:8080/",
          "height": 390
        },
        "id": "h0BEo2vfM3Vi",
        "outputId": "8a7bc232-5b1c-4254-8466-a9661bcba747"
      },
      "source": [
        "task_id_correct = correct(\"task_container_id\")\n",
        "\n",
        "fig = plt.figure(figsize=(12,6))\n",
        "task_id_correct.hist(bins=40)\n",
        "plt.title(\"Histogram of percent_correct grouped by task_container_id\")\n",
        "plt.xticks(rotation=0)\n",
        "plt.show()"
      ],
      "execution_count": null,
      "outputs": [
        {
          "output_type": "display_data",
          "data": {
            "image/png": "[encoded data removed]",
            "text/plain": [
              "<Figure size 864x432 with 1 Axes>"
            ]
          },
          "metadata": {
            "tags": [],
            "needs_background": "light"
          }
        }
      ]
    },
    {
      "cell_type": "markdown",
      "metadata": {
        "id": "AtUoQ3mbT4SI"
      },
      "source": [
        "task_container_id의 히스토그램을 보면 정답률이 0.5부터 0.9 사이에 밀집되어 있어 정답률이 0.5 미만인 건 너무 어려운 거라고 보면 되려나"
      ]
    },
    {
      "cell_type": "code",
      "metadata": {
        "colab": {
          "base_uri": "https://localhost:8080/",
          "height": 454
        },
        "id": "sfZ9tS6I3Xlt",
        "outputId": "c08c9aec-fdde-4e25-dba2-5fd827f925f1"
      },
      "source": [
        "# content_id별 정답률\n",
        "content_id_agg = sample_train[sample_train.answered_correctly!=-1].groupby('content_id')['answered_correctly'].agg(['count', 'sum'])\n",
        "content_id_agg['correct_rate'] = content_id_agg['sum']/content_id_agg['count']\n",
        "content_id_agg.sort_values(by='count', ascending=False)"
      ],
      "execution_count": null,
      "outputs": [
        {
          "output_type": "execute_result",
          "data": {
            "text/html": [
              "<div>\n",
              "<style scoped>\n",
              "    .dataframe tbody tr th:only-of-type {\n",
              "        vertical-align: middle;\n",
              "    }\n",
              "\n",
              "    .dataframe tbody tr th {\n",
              "        vertical-align: top;\n",
              "    }\n",
              "\n",
              "    .dataframe thead th {\n",
              "        text-align: right;\n",
              "    }\n",
              "</style>\n",
              "<table border=\"1\" class=\"dataframe\">\n",
              "  <thead>\n",
              "    <tr style=\"text-align: right;\">\n",
              "      <th></th>\n",
              "      <th>count</th>\n",
              "      <th>sum</th>\n",
              "      <th>correct_rate</th>\n",
              "    </tr>\n",
              "    <tr>\n",
              "      <th>content_id</th>\n",
              "      <th></th>\n",
              "      <th></th>\n",
              "      <th></th>\n",
              "    </tr>\n",
              "  </thead>\n",
              "  <tbody>\n",
              "    <tr>\n",
              "      <th>6116</th>\n",
              "      <td>2225</td>\n",
              "      <td>614</td>\n",
              "      <td>0.275955</td>\n",
              "    </tr>\n",
              "    <tr>\n",
              "      <th>6173</th>\n",
              "      <td>2079</td>\n",
              "      <td>595</td>\n",
              "      <td>0.286195</td>\n",
              "    </tr>\n",
              "    <tr>\n",
              "      <th>4120</th>\n",
              "      <td>2044</td>\n",
              "      <td>534</td>\n",
              "      <td>0.261252</td>\n",
              "    </tr>\n",
              "    <tr>\n",
              "      <th>175</th>\n",
              "      <td>2006</td>\n",
              "      <td>715</td>\n",
              "      <td>0.356431</td>\n",
              "    </tr>\n",
              "    <tr>\n",
              "      <th>7876</th>\n",
              "      <td>1956</td>\n",
              "      <td>812</td>\n",
              "      <td>0.415133</td>\n",
              "    </tr>\n",
              "    <tr>\n",
              "      <th>...</th>\n",
              "      <td>...</td>\n",
              "      <td>...</td>\n",
              "      <td>...</td>\n",
              "    </tr>\n",
              "    <tr>\n",
              "      <th>12806</th>\n",
              "      <td>1</td>\n",
              "      <td>1</td>\n",
              "      <td>1.000000</td>\n",
              "    </tr>\n",
              "    <tr>\n",
              "      <th>12807</th>\n",
              "      <td>1</td>\n",
              "      <td>1</td>\n",
              "      <td>1.000000</td>\n",
              "    </tr>\n",
              "    <tr>\n",
              "      <th>12813</th>\n",
              "      <td>1</td>\n",
              "      <td>1</td>\n",
              "      <td>1.000000</td>\n",
              "    </tr>\n",
              "    <tr>\n",
              "      <th>12814</th>\n",
              "      <td>1</td>\n",
              "      <td>1</td>\n",
              "      <td>1.000000</td>\n",
              "    </tr>\n",
              "    <tr>\n",
              "      <th>12528</th>\n",
              "      <td>1</td>\n",
              "      <td>1</td>\n",
              "      <td>1.000000</td>\n",
              "    </tr>\n",
              "  </tbody>\n",
              "</table>\n",
              "<p>13220 rows × 3 columns</p>\n",
              "</div>"
            ],
            "text/plain": [
              "            count  sum  correct_rate\n",
              "content_id                          \n",
              "6116         2225  614      0.275955\n",
              "6173         2079  595      0.286195\n",
              "4120         2044  534      0.261252\n",
              "175          2006  715      0.356431\n",
              "7876         1956  812      0.415133\n",
              "...           ...  ...           ...\n",
              "12806           1    1      1.000000\n",
              "12807           1    1      1.000000\n",
              "12813           1    1      1.000000\n",
              "12814           1    1      1.000000\n",
              "12528           1    1      1.000000\n",
              "\n",
              "[13220 rows x 3 columns]"
            ]
          },
          "metadata": {
            "tags": []
          },
          "execution_count": 152
        }
      ]
    },
    {
      "cell_type": "code",
      "metadata": {
        "colab": {
          "base_uri": "https://localhost:8080/"
        },
        "id": "fcZkaa-e5_dv",
        "outputId": "6f85801e-d31f-4b97-9516-fc4f38cd5365"
      },
      "source": [
        "(content_id_agg['correct_rate']==0).sum() #161개\n",
        "(content_id_agg['correct_rate']==1).sum() #1043개"
      ],
      "execution_count": null,
      "outputs": [
        {
          "output_type": "execute_result",
          "data": {
            "text/plain": [
              "1043"
            ]
          },
          "metadata": {
            "tags": []
          },
          "execution_count": 153
        }
      ]
    },
    {
      "cell_type": "markdown",
      "metadata": {
        "id": "dXmvYQm-3YVW"
      },
      "source": [
        "### 유저 별 인터렉션의 정답률 "
      ]
    },
    {
      "cell_type": "code",
      "metadata": {
        "colab": {
          "base_uri": "https://localhost:8080/",
          "height": 225
        },
        "id": "a8_bEQ1w4b_-",
        "outputId": "fa3daa12-6f8c-4656-f2bc-4439e03b1156"
      },
      "source": [
        "sample_train['lag'] = sample_train.groupby('user_id')['answered_correctly'].shift()\n",
        "sample_train.head()"
      ],
      "execution_count": null,
      "outputs": [
        {
          "output_type": "execute_result",
          "data": {
            "text/html": [
              "<div>\n",
              "<style scoped>\n",
              "    .dataframe tbody tr th:only-of-type {\n",
              "        vertical-align: middle;\n",
              "    }\n",
              "\n",
              "    .dataframe tbody tr th {\n",
              "        vertical-align: top;\n",
              "    }\n",
              "\n",
              "    .dataframe thead th {\n",
              "        text-align: right;\n",
              "    }\n",
              "</style>\n",
              "<table border=\"1\" class=\"dataframe\">\n",
              "  <thead>\n",
              "    <tr style=\"text-align: right;\">\n",
              "      <th></th>\n",
              "      <th>row_id</th>\n",
              "      <th>timestamp</th>\n",
              "      <th>user_id</th>\n",
              "      <th>content_id</th>\n",
              "      <th>content_type_id</th>\n",
              "      <th>task_container_id</th>\n",
              "      <th>user_answer</th>\n",
              "      <th>answered_correctly</th>\n",
              "      <th>prior_question_elapsed_time</th>\n",
              "      <th>prior_question_had_explanation</th>\n",
              "      <th>user_correctness</th>\n",
              "      <th>lag</th>\n",
              "    </tr>\n",
              "  </thead>\n",
              "  <tbody>\n",
              "    <tr>\n",
              "      <th>0</th>\n",
              "      <td>624</td>\n",
              "      <td>0</td>\n",
              "      <td>13134</td>\n",
              "      <td>3926</td>\n",
              "      <td>False</td>\n",
              "      <td>0</td>\n",
              "      <td>3</td>\n",
              "      <td>1</td>\n",
              "      <td>nan</td>\n",
              "      <td>NaN</td>\n",
              "      <td>nan</td>\n",
              "      <td>nan</td>\n",
              "    </tr>\n",
              "    <tr>\n",
              "      <th>1</th>\n",
              "      <td>625</td>\n",
              "      <td>23840</td>\n",
              "      <td>13134</td>\n",
              "      <td>564</td>\n",
              "      <td>False</td>\n",
              "      <td>1</td>\n",
              "      <td>1</td>\n",
              "      <td>0</td>\n",
              "      <td>22000.00000</td>\n",
              "      <td>False</td>\n",
              "      <td>1.00000</td>\n",
              "      <td>1.00000</td>\n",
              "    </tr>\n",
              "    <tr>\n",
              "      <th>2</th>\n",
              "      <td>626</td>\n",
              "      <td>46834</td>\n",
              "      <td>13134</td>\n",
              "      <td>3865</td>\n",
              "      <td>False</td>\n",
              "      <td>2</td>\n",
              "      <td>1</td>\n",
              "      <td>0</td>\n",
              "      <td>18000.00000</td>\n",
              "      <td>False</td>\n",
              "      <td>0.50000</td>\n",
              "      <td>0.00000</td>\n",
              "    </tr>\n",
              "    <tr>\n",
              "      <th>3</th>\n",
              "      <td>627</td>\n",
              "      <td>64749</td>\n",
              "      <td>13134</td>\n",
              "      <td>4231</td>\n",
              "      <td>False</td>\n",
              "      <td>3</td>\n",
              "      <td>1</td>\n",
              "      <td>1</td>\n",
              "      <td>19000.00000</td>\n",
              "      <td>False</td>\n",
              "      <td>0.33333</td>\n",
              "      <td>0.00000</td>\n",
              "    </tr>\n",
              "    <tr>\n",
              "      <th>4</th>\n",
              "      <td>628</td>\n",
              "      <td>113000</td>\n",
              "      <td>13134</td>\n",
              "      <td>3684</td>\n",
              "      <td>False</td>\n",
              "      <td>4</td>\n",
              "      <td>1</td>\n",
              "      <td>1</td>\n",
              "      <td>13000.00000</td>\n",
              "      <td>False</td>\n",
              "      <td>0.50000</td>\n",
              "      <td>1.00000</td>\n",
              "    </tr>\n",
              "  </tbody>\n",
              "</table>\n",
              "</div>"
            ],
            "text/plain": [
              "   row_id  timestamp  ...  user_correctness     lag\n",
              "0     624          0  ...               nan     nan\n",
              "1     625      23840  ...           1.00000 1.00000\n",
              "2     626      46834  ...           0.50000 0.00000\n",
              "3     627      64749  ...           0.33333 0.00000\n",
              "4     628     113000  ...           0.50000 1.00000\n",
              "\n",
              "[5 rows x 12 columns]"
            ]
          },
          "metadata": {
            "tags": []
          },
          "execution_count": 144
        }
      ]
    },
    {
      "cell_type": "code",
      "metadata": {
        "id": "EeYoN5CBOUya"
      },
      "source": [
        "sample_train['shift'] = sample_train['timestamp'].shift(1)\n",
        "sample_train['diff'] = sample_train['timestamp'] - sample_train['shift']\n",
        "sample_train.loc[sample_train['diff']<0, 'diff']=0"
      ],
      "execution_count": null,
      "outputs": []
    },
    {
      "cell_type": "code",
      "metadata": {
        "id": "euiI1opFpzf-"
      },
      "source": [
        "cum = sample_train.groupby('user_id')['lag'].agg(['cumsum', 'cumcount'])\n",
        "sample_train['user_correctness'] = cum['cumsum'] / cum['cumcount']\n",
        "sample_train.drop(columns=['lag'], inplace=True)"
      ],
      "execution_count": null,
      "outputs": []
    },
    {
      "cell_type": "code",
      "metadata": {
        "id": "F1Nk_qqmOr8t"
      },
      "source": [
        "sample_train[['diff', 'user_correctness']] = sample_train[['diff', 'user_correctness']].fillna(0)"
      ],
      "execution_count": null,
      "outputs": []
    },
    {
      "cell_type": "code",
      "metadata": {
        "colab": {
          "base_uri": "https://localhost:8080/",
          "height": 405
        },
        "id": "891OBFotO70k",
        "outputId": "10dbef3c-9690-41c1-b9d2-2e372d350910"
      },
      "source": [
        "fig = plt.figure(figsize=(8,6))\n",
        "sns.scatterplot(data=sample_train, x='diff', y='user_correctness')\n",
        "x = sample_train['diff']\n",
        "y = sample_train.user_correctness\n",
        "z = np.polyfit(x, y, 1)\n",
        "p = np.poly1d(z)\n",
        "plt.plot(x,p(x),\"r--\")"
      ],
      "execution_count": null,
      "outputs": [
        {
          "output_type": "execute_result",
          "data": {
            "text/plain": [
              "[<matplotlib.lines.Line2D at 0x7f96895b2350>]"
            ]
          },
          "metadata": {
            "tags": []
          },
          "execution_count": 159
        },
        {
          "output_type": "display_data",
          "data": {
            "image/png": "[encoded data removed]",
            "text/plain": [
              "<Figure size 576x432 with 1 Axes>"
            ]
          },
          "metadata": {
            "tags": [],
            "needs_background": "light"
          }
        }
      ]
    },
    {
      "cell_type": "code",
      "metadata": {
        "id": "pmdjRm1bqJQi"
      },
      "source": [
        "sample_train.drop(columns=['Unnamed: 0'], inplace=True)"
      ],
      "execution_count": null,
      "outputs": []
    },
    {
      "cell_type": "code",
      "metadata": {
        "colab": {
          "base_uri": "https://localhost:8080/",
          "height": 282
        },
        "id": "lCA-UllTqcts",
        "outputId": "d903b729-aa8f-4b64-8ee1-e542fa625fbc"
      },
      "source": [
        "m_u = sample_train.user_id.mode()[0]\n",
        "sample_train.loc[sample_train.user_id==m_u, 'user_correctness'].plot.line()\n"
      ],
      "execution_count": null,
      "outputs": [
        {
          "output_type": "execute_result",
          "data": {
            "text/plain": [
              "<matplotlib.axes._subplots.AxesSubplot at 0x7f9685112b10>"
            ]
          },
          "metadata": {
            "tags": []
          },
          "execution_count": 139
        },
        {
          "output_type": "display_data",
          "data": {
            "image/png": "[encoded data removed]",
            "text/plain": [
              "<Figure size 432x288 with 1 Axes>"
            ]
          },
          "metadata": {
            "tags": [],
            "needs_background": "light"
          }
        }
      ]
    },
    {
      "cell_type": "code",
      "metadata": {
        "id": "Ji5k9uH_rLFm"
      },
      "source": [
        " sample_train.prior_question_elapsed_time = sample_train.prior_question_elapsed_time.fillna(0)"
      ],
      "execution_count": null,
      "outputs": []
    },
    {
      "cell_type": "code",
      "metadata": {
        "id": "MzHVZuBs6kL7"
      },
      "source": [
        "sample_train['this_q_elapsed_time']=sample_train.prior_question_elapsed_time.shift(-1)"
      ],
      "execution_count": null,
      "outputs": []
    },
    {
      "cell_type": "code",
      "metadata": {
        "id": "qlT0w28u6bxu"
      },
      "source": [
        "content_time = sample_train[['content_id', 'answered_correctly','this_q_elapsed_time']]\n",
        "content_time = content_time.groupby('content_id').agg(['mean'])"
      ],
      "execution_count": null,
      "outputs": []
    },
    {
      "cell_type": "code",
      "metadata": {
        "colab": {
          "base_uri": "https://localhost:8080/",
          "height": 454
        },
        "id": "6QLxizZZ7g7-",
        "outputId": "e3127bf0-dc43-49de-e317-9fa7d1509b1b"
      },
      "source": [
        "content_time.columns = ['mean_correct', 'mean_time']\n",
        "content_time"
      ],
      "execution_count": null,
      "outputs": [
        {
          "output_type": "execute_result",
          "data": {
            "text/html": [
              "<div>\n",
              "<style scoped>\n",
              "    .dataframe tbody tr th:only-of-type {\n",
              "        vertical-align: middle;\n",
              "    }\n",
              "\n",
              "    .dataframe tbody tr th {\n",
              "        vertical-align: top;\n",
              "    }\n",
              "\n",
              "    .dataframe thead th {\n",
              "        text-align: right;\n",
              "    }\n",
              "</style>\n",
              "<table border=\"1\" class=\"dataframe\">\n",
              "  <thead>\n",
              "    <tr style=\"text-align: right;\">\n",
              "      <th></th>\n",
              "      <th>mean_correct</th>\n",
              "      <th>mean_time</th>\n",
              "    </tr>\n",
              "    <tr>\n",
              "      <th>content_id</th>\n",
              "      <th></th>\n",
              "      <th></th>\n",
              "    </tr>\n",
              "  </thead>\n",
              "  <tbody>\n",
              "    <tr>\n",
              "      <th>0</th>\n",
              "      <td>0.902778</td>\n",
              "      <td>19388.888889</td>\n",
              "    </tr>\n",
              "    <tr>\n",
              "      <th>1</th>\n",
              "      <td>0.860465</td>\n",
              "      <td>18674.418605</td>\n",
              "    </tr>\n",
              "    <tr>\n",
              "      <th>2</th>\n",
              "      <td>0.569328</td>\n",
              "      <td>24424.369748</td>\n",
              "    </tr>\n",
              "    <tr>\n",
              "      <th>3</th>\n",
              "      <td>0.783784</td>\n",
              "      <td>20945.945946</td>\n",
              "    </tr>\n",
              "    <tr>\n",
              "      <th>4</th>\n",
              "      <td>0.608563</td>\n",
              "      <td>22003.058104</td>\n",
              "    </tr>\n",
              "    <tr>\n",
              "      <th>...</th>\n",
              "      <td>...</td>\n",
              "      <td>...</td>\n",
              "    </tr>\n",
              "    <tr>\n",
              "      <th>13518</th>\n",
              "      <td>0.555556</td>\n",
              "      <td>8000.000000</td>\n",
              "    </tr>\n",
              "    <tr>\n",
              "      <th>13519</th>\n",
              "      <td>0.750000</td>\n",
              "      <td>36875.000000</td>\n",
              "    </tr>\n",
              "    <tr>\n",
              "      <th>13520</th>\n",
              "      <td>0.777778</td>\n",
              "      <td>42111.111111</td>\n",
              "    </tr>\n",
              "    <tr>\n",
              "      <th>13521</th>\n",
              "      <td>1.000000</td>\n",
              "      <td>17285.714286</td>\n",
              "    </tr>\n",
              "    <tr>\n",
              "      <th>13522</th>\n",
              "      <td>0.777778</td>\n",
              "      <td>27111.111111</td>\n",
              "    </tr>\n",
              "  </tbody>\n",
              "</table>\n",
              "<p>13220 rows × 2 columns</p>\n",
              "</div>"
            ],
            "text/plain": [
              "            mean_correct     mean_time\n",
              "content_id                            \n",
              "0               0.902778  19388.888889\n",
              "1               0.860465  18674.418605\n",
              "2               0.569328  24424.369748\n",
              "3               0.783784  20945.945946\n",
              "4               0.608563  22003.058104\n",
              "...                  ...           ...\n",
              "13518           0.555556   8000.000000\n",
              "13519           0.750000  36875.000000\n",
              "13520           0.777778  42111.111111\n",
              "13521           1.000000  17285.714286\n",
              "13522           0.777778  27111.111111\n",
              "\n",
              "[13220 rows x 2 columns]"
            ]
          },
          "metadata": {
            "tags": []
          },
          "execution_count": 174
        }
      ]
    },
    {
      "cell_type": "code",
      "metadata": {
        "colab": {
          "base_uri": "https://localhost:8080/",
          "height": 388
        },
        "id": "SdSLWErE79eh",
        "outputId": "33edc8c1-b35e-40e9-cd87-f7a5f985eae5"
      },
      "source": [
        "# 평균 정답율과 이 문제를 푸는데 들인 평균 시간이 있어. 이 둘은 상관관계가 있을까?\n",
        "# 시간이 적게 걸린 건 빨리 풀고 정답율이 높고 아닌 것은 정답율이 낮고?\n",
        "# 하지만 산점도를 보면 별로 큰 상관성이 안 보인다.\n",
        "# elapsed time은 어떻게 활용할 수 있지?\n",
        "\n",
        "content_time = content_time[(content_time.mean_correct>0) & (content_time.mean_correct<1)]\n",
        "\n",
        "fig = plt.figure(figsize=(12,6))\n",
        "sns.scatterplot(x='mean_correct', y='mean_time', data=content_time)\n",
        "# x = content_time.mean_time\n",
        "# y = content_time.mean_correct\n",
        "# z = np.polyfit(x, y, 1)\n",
        "# p = np.poly1d(z)\n",
        "# plt.plot(x,p(x),\"r--\")\n",
        "plt.show()"
      ],
      "execution_count": null,
      "outputs": [
        {
          "output_type": "display_data",
          "data": {
            "image/png": "[encoded data removed]",
            "text/plain": [
              "<Figure size 864x432 with 1 Axes>"
            ]
          },
          "metadata": {
            "tags": [],
            "needs_background": "light"
          }
        }
      ]
    },
    {
      "cell_type": "markdown",
      "metadata": {
        "id": "-wZfjwKVBbeM"
      },
      "source": [
        "---"
      ]
    },
    {
      "cell_type": "code",
      "metadata": {
        "id": "aXkrusvJBa_w"
      },
      "source": [
        ""
      ],
      "execution_count": null,
      "outputs": []
    },
    {
      "cell_type": "code",
      "metadata": {
        "colab": {
          "base_uri": "https://localhost:8080/",
          "height": 454
        },
        "id": "-cpgB2Sc8Iiy",
        "outputId": "f7093136-0401-4539-c3da-8098e00a32b4"
      },
      "source": [
        "user_percent = sample_train[sample_train.answered_correctly != -1].groupby('user_id')['answered_correctly'].agg(Mean='mean', Answers='count')\n",
        "user_percent"
      ],
      "execution_count": null,
      "outputs": [
        {
          "output_type": "execute_result",
          "data": {
            "text/html": [
              "<div>\n",
              "<style scoped>\n",
              "    .dataframe tbody tr th:only-of-type {\n",
              "        vertical-align: middle;\n",
              "    }\n",
              "\n",
              "    .dataframe tbody tr th {\n",
              "        vertical-align: top;\n",
              "    }\n",
              "\n",
              "    .dataframe thead th {\n",
              "        text-align: right;\n",
              "    }\n",
              "</style>\n",
              "<table border=\"1\" class=\"dataframe\">\n",
              "  <thead>\n",
              "    <tr style=\"text-align: right;\">\n",
              "      <th></th>\n",
              "      <th>Mean</th>\n",
              "      <th>Answers</th>\n",
              "    </tr>\n",
              "    <tr>\n",
              "      <th>user_id</th>\n",
              "      <th></th>\n",
              "      <th></th>\n",
              "    </tr>\n",
              "  </thead>\n",
              "  <tbody>\n",
              "    <tr>\n",
              "      <th>13134</th>\n",
              "      <td>0.70636</td>\n",
              "      <td>1243</td>\n",
              "    </tr>\n",
              "    <tr>\n",
              "      <th>107002</th>\n",
              "      <td>0.82313</td>\n",
              "      <td>1928</td>\n",
              "    </tr>\n",
              "    <tr>\n",
              "      <th>128919</th>\n",
              "      <td>0.33333</td>\n",
              "      <td>30</td>\n",
              "    </tr>\n",
              "    <tr>\n",
              "      <th>384661</th>\n",
              "      <td>0.26923</td>\n",
              "      <td>52</td>\n",
              "    </tr>\n",
              "    <tr>\n",
              "      <th>1526071</th>\n",
              "      <td>0.50000</td>\n",
              "      <td>30</td>\n",
              "    </tr>\n",
              "    <tr>\n",
              "      <th>...</th>\n",
              "      <td>...</td>\n",
              "      <td>...</td>\n",
              "    </tr>\n",
              "    <tr>\n",
              "      <th>2143839785</th>\n",
              "      <td>0.65833</td>\n",
              "      <td>120</td>\n",
              "    </tr>\n",
              "    <tr>\n",
              "      <th>2143906764</th>\n",
              "      <td>0.63333</td>\n",
              "      <td>90</td>\n",
              "    </tr>\n",
              "    <tr>\n",
              "      <th>2145586557</th>\n",
              "      <td>0.15385</td>\n",
              "      <td>13</td>\n",
              "    </tr>\n",
              "    <tr>\n",
              "      <th>2146227274</th>\n",
              "      <td>0.33333</td>\n",
              "      <td>30</td>\n",
              "    </tr>\n",
              "    <tr>\n",
              "      <th>2146790080</th>\n",
              "      <td>0.30000</td>\n",
              "      <td>30</td>\n",
              "    </tr>\n",
              "  </tbody>\n",
              "</table>\n",
              "<p>4000 rows × 2 columns</p>\n",
              "</div>"
            ],
            "text/plain": [
              "              Mean  Answers\n",
              "user_id                    \n",
              "13134      0.70636     1243\n",
              "107002     0.82313     1928\n",
              "128919     0.33333       30\n",
              "384661     0.26923       52\n",
              "1526071    0.50000       30\n",
              "...            ...      ...\n",
              "2143839785 0.65833      120\n",
              "2143906764 0.63333       90\n",
              "2145586557 0.15385       13\n",
              "2146227274 0.33333       30\n",
              "2146790080 0.30000       30\n",
              "\n",
              "[4000 rows x 2 columns]"
            ]
          },
          "metadata": {
            "tags": []
          },
          "execution_count": 141
        }
      ]
    },
    {
      "cell_type": "code",
      "metadata": {
        "colab": {
          "base_uri": "https://localhost:8080/",
          "height": 378
        },
        "id": "r7Ixkz6qBgXy",
        "outputId": "49d8ea2c-47b9-4925-ec56-f830c42a9e90"
      },
      "source": [
        "\n",
        "\n",
        "user_percent = user_percent.query('Answers <= 1000').sample(n=1000, random_state=1)\n",
        "\n",
        "fig = plt.figure(figsize=(12,6))\n",
        "x = user_percent.Answers\n",
        "y = user_percent.Mean\n",
        "plt.scatter(x, y, marker='o')\n",
        "# plt.title(\"Percent answered correctly versus number of questions answered User\")\n",
        "# plt.xticks(rotation=0)\n",
        "# plt.xlabel(\"Number of questions answered\")\n",
        "# plt.ylabel(\"Percent answered correctly\")\n",
        "z = np.polyfit(x, y, 1)\n",
        "p = np.poly1d(z)\n",
        "plt.plot(x,p(x),\"r--\")\n",
        "\n",
        "plt.show()"
      ],
      "execution_count": null,
      "outputs": [
        {
          "output_type": "display_data",
          "data": {
            "image/png": "[encoded data removed]",
            "text/plain": [
              "<Figure size 864x432 with 1 Axes>"
            ]
          },
          "metadata": {
            "tags": [],
            "needs_background": "light"
          }
        }
      ]
    },
    {
      "cell_type": "markdown",
      "metadata": {
        "id": "_mtiFMciCCiN"
      },
      "source": [
        "많이 답할수록 정답율이 올라가는 추세 = 많이 사용할수록 정답율이 올라감  \n",
        "누적사용횟수를 새로운 변수로 만들 수 있음"
      ]
    },
    {
      "cell_type": "code",
      "metadata": {
        "colab": {
          "base_uri": "https://localhost:8080/",
          "height": 454
        },
        "id": "I5lK14_-BvaR",
        "outputId": "384671ae-8238-405d-da4e-6f20a4ff2daf"
      },
      "source": [
        "content_percent = sample_train[sample_train.answered_correctly != -1].groupby('content_id')['answered_correctly'].agg(Mean='mean', Answers='count')\n",
        "content_percent.query('Answers <= 25000')"
      ],
      "execution_count": null,
      "outputs": [
        {
          "output_type": "execute_result",
          "data": {
            "text/html": [
              "<div>\n",
              "<style scoped>\n",
              "    .dataframe tbody tr th:only-of-type {\n",
              "        vertical-align: middle;\n",
              "    }\n",
              "\n",
              "    .dataframe tbody tr th {\n",
              "        vertical-align: top;\n",
              "    }\n",
              "\n",
              "    .dataframe thead th {\n",
              "        text-align: right;\n",
              "    }\n",
              "</style>\n",
              "<table border=\"1\" class=\"dataframe\">\n",
              "  <thead>\n",
              "    <tr style=\"text-align: right;\">\n",
              "      <th></th>\n",
              "      <th>Mean</th>\n",
              "      <th>Answers</th>\n",
              "    </tr>\n",
              "    <tr>\n",
              "      <th>content_id</th>\n",
              "      <th></th>\n",
              "      <th></th>\n",
              "    </tr>\n",
              "  </thead>\n",
              "  <tbody>\n",
              "    <tr>\n",
              "      <th>0</th>\n",
              "      <td>0.90278</td>\n",
              "      <td>72</td>\n",
              "    </tr>\n",
              "    <tr>\n",
              "      <th>1</th>\n",
              "      <td>0.86047</td>\n",
              "      <td>86</td>\n",
              "    </tr>\n",
              "    <tr>\n",
              "      <th>2</th>\n",
              "      <td>0.56933</td>\n",
              "      <td>476</td>\n",
              "    </tr>\n",
              "    <tr>\n",
              "      <th>3</th>\n",
              "      <td>0.78378</td>\n",
              "      <td>259</td>\n",
              "    </tr>\n",
              "    <tr>\n",
              "      <th>4</th>\n",
              "      <td>0.60856</td>\n",
              "      <td>327</td>\n",
              "    </tr>\n",
              "    <tr>\n",
              "      <th>...</th>\n",
              "      <td>...</td>\n",
              "      <td>...</td>\n",
              "    </tr>\n",
              "    <tr>\n",
              "      <th>13518</th>\n",
              "      <td>0.55556</td>\n",
              "      <td>9</td>\n",
              "    </tr>\n",
              "    <tr>\n",
              "      <th>13519</th>\n",
              "      <td>0.75000</td>\n",
              "      <td>8</td>\n",
              "    </tr>\n",
              "    <tr>\n",
              "      <th>13520</th>\n",
              "      <td>0.77778</td>\n",
              "      <td>9</td>\n",
              "    </tr>\n",
              "    <tr>\n",
              "      <th>13521</th>\n",
              "      <td>1.00000</td>\n",
              "      <td>7</td>\n",
              "    </tr>\n",
              "    <tr>\n",
              "      <th>13522</th>\n",
              "      <td>0.77778</td>\n",
              "      <td>9</td>\n",
              "    </tr>\n",
              "  </tbody>\n",
              "</table>\n",
              "<p>13220 rows × 2 columns</p>\n",
              "</div>"
            ],
            "text/plain": [
              "              Mean  Answers\n",
              "content_id                 \n",
              "0          0.90278       72\n",
              "1          0.86047       86\n",
              "2          0.56933      476\n",
              "3          0.78378      259\n",
              "4          0.60856      327\n",
              "...            ...      ...\n",
              "13518      0.55556        9\n",
              "13519      0.75000        8\n",
              "13520      0.77778        9\n",
              "13521      1.00000        7\n",
              "13522      0.77778        9\n",
              "\n",
              "[13220 rows x 2 columns]"
            ]
          },
          "metadata": {
            "tags": []
          },
          "execution_count": 162
        }
      ]
    },
    {
      "cell_type": "code",
      "metadata": {
        "colab": {
          "base_uri": "https://localhost:8080/",
          "height": 374
        },
        "id": "5Rgs9c66CYmc",
        "outputId": "46db87da-941f-4a05-f56e-06631163c1df"
      },
      "source": [
        "content_percent = content_percent.query('Answers <= 25000').sample(n=1000, random_state=1)\n",
        "\n",
        "fig = plt.figure(figsize=(12,6))\n",
        "x = content_percent.Answers\n",
        "y = content_percent.Mean\n",
        "plt.scatter(x, y, marker='o')\n",
        "# plt.title(\"Percent answered correctly versus number of questions answered Content_id\")\n",
        "# plt.xticks(rotation=0)\n",
        "# plt.xlabel(\"Number of questions answered\")\n",
        "# plt.ylabel(\"Percent answered correctly\")\n",
        "z = np.polyfit(x, y, 1)\n",
        "p = np.poly1d(z)\n",
        "plt.plot(x,p(x),\"r--\")\n",
        "\n",
        "plt.show()"
      ],
      "execution_count": null,
      "outputs": [
        {
          "output_type": "display_data",
          "data": {
            "image/png": "[encoded data removed]",
            "text/plain": [
              "<Figure size 576x432 with 1 Axes>"
            ]
          },
          "metadata": {
            "tags": [],
            "needs_background": "light"
          }
        }
      ]
    },
    {
      "cell_type": "markdown",
      "metadata": {
        "id": "HRaTPpzrC9Ip"
      },
      "source": [
        "적은 사람이 답한 문제는 정답율이 높고 그렇지 않으면 정답율이 떨어짐. \n",
        "하지만 1번 풀고 1번 맞춘 그런 문제가 있음. 별로 의미있는 그래프는 아닌 것 같음"
      ]
    },
    {
      "cell_type": "code",
      "metadata": {
        "colab": {
          "base_uri": "https://localhost:8080/",
          "height": 343
        },
        "id": "9kkb0iHdEesn",
        "outputId": "9b70d693-863d-4b53-ede3-1bd06e8bceaf"
      },
      "source": [
        "sns.countplot(x=sample_train.prior_question_had_explanation)\n",
        "sample_train.prior_question_had_explanation.value_counts()"
      ],
      "execution_count": null,
      "outputs": [
        {
          "output_type": "execute_result",
          "data": {
            "text/plain": [
              "True     953469\n",
              "False     91737\n",
              "Name: prior_question_had_explanation, dtype: int64"
            ]
          },
          "metadata": {
            "tags": []
          },
          "execution_count": 201
        },
        {
          "output_type": "display_data",
          "data": {
            "image/png": "[encoded data removed]",
            "text/plain": [
              "<Figure size 432x288 with 1 Axes>"
            ]
          },
          "metadata": {
            "tags": [],
            "needs_background": "light"
          }
        }
      ]
    },
    {
      "cell_type": "code",
      "metadata": {
        "colab": {
          "base_uri": "https://localhost:8080/",
          "height": 143
        },
        "id": "3uBLNyNTDncu",
        "outputId": "881c5b65-46d1-4918-9e78-1309e37a074c"
      },
      "source": [
        "explanation_percent = sample_train[sample_train.answered_correctly != -1].groupby('prior_question_had_explanation')['answered_correctly'].agg(Mean='mean', Answers='count')\n",
        "explanation_percent"
      ],
      "execution_count": null,
      "outputs": [
        {
          "output_type": "execute_result",
          "data": {
            "text/html": [
              "<div>\n",
              "<style scoped>\n",
              "    .dataframe tbody tr th:only-of-type {\n",
              "        vertical-align: middle;\n",
              "    }\n",
              "\n",
              "    .dataframe tbody tr th {\n",
              "        vertical-align: top;\n",
              "    }\n",
              "\n",
              "    .dataframe thead th {\n",
              "        text-align: right;\n",
              "    }\n",
              "</style>\n",
              "<table border=\"1\" class=\"dataframe\">\n",
              "  <thead>\n",
              "    <tr style=\"text-align: right;\">\n",
              "      <th></th>\n",
              "      <th>Mean</th>\n",
              "      <th>Answers</th>\n",
              "    </tr>\n",
              "    <tr>\n",
              "      <th>prior_question_had_explanation</th>\n",
              "      <th></th>\n",
              "      <th></th>\n",
              "    </tr>\n",
              "  </thead>\n",
              "  <tbody>\n",
              "    <tr>\n",
              "      <th>False</th>\n",
              "      <td>0.494773</td>\n",
              "      <td>91737</td>\n",
              "    </tr>\n",
              "    <tr>\n",
              "      <th>True</th>\n",
              "      <td>0.675741</td>\n",
              "      <td>953469</td>\n",
              "    </tr>\n",
              "  </tbody>\n",
              "</table>\n",
              "</div>"
            ],
            "text/plain": [
              "                                    Mean  Answers\n",
              "prior_question_had_explanation                   \n",
              "False                           0.494773    91737\n",
              "True                            0.675741   953469"
            ]
          },
          "metadata": {
            "tags": []
          },
          "execution_count": 202
        }
      ]
    },
    {
      "cell_type": "code",
      "metadata": {
        "colab": {
          "base_uri": "https://localhost:8080/",
          "height": 381
        },
        "id": "ylEEPo3pF_Ka",
        "outputId": "6edf0e5a-250b-40ea-d3f1-91baa466bf66"
      },
      "source": [
        "pq = sample_train[sample_train.answered_correctly != -1].groupby(['prior_question_had_explanation'], dropna=False).agg({'answered_correctly': ['mean', 'count']})\n",
        "#pq.index = pq.index.astype(str)\n",
        "print(pq.iloc[:,1])\n",
        "pq = pq.iloc[:,0]\n",
        "\n",
        "fig = plt.figure(figsize=(12,4))\n",
        "pq.plot.barh()\n",
        "# for i, v in zip(pq.index, pq.values):\n",
        "#     plt.text(v, i, round(v,2), color='white', fontweight='bold', fontsize=14, ha='right', va='center')\n",
        "plt.title(\"Answered_correctly versus Prior Question had explanation\")\n",
        "plt.xlabel(\"Percent answered correctly\")\n",
        "plt.ylabel(\"Prior question had explanation\")\n",
        "plt.xticks(rotation=0)\n",
        "plt.show()"
      ],
      "execution_count": null,
      "outputs": [
        {
          "output_type": "stream",
          "text": [
            "prior_question_had_explanation\n",
            "False     91737\n",
            "True     953469\n",
            "NaN        3990\n",
            "Name: (answered_correctly, count), dtype: int64\n"
          ],
          "name": "stdout"
        },
        {
          "output_type": "display_data",
          "data": {
            "image/png": "[encoded data removed]",
            "text/plain": [
              "<Figure size 864x288 with 1 Axes>"
            ]
          },
          "metadata": {
            "tags": [],
            "needs_background": "light"
          }
        }
      ]
    },
    {
      "cell_type": "markdown",
      "metadata": {
        "id": "a2Mkc20VHMoi"
      },
      "source": [
        "explanation을 보면 정답율이 올라감"
      ]
    },
    {
      "cell_type": "markdown",
      "metadata": {
        "id": "bTF5bYilHWl8"
      },
      "source": [
        "---\n",
        "### questions"
      ]
    },
    {
      "cell_type": "code",
      "metadata": {
        "id": "xZBD1P6nHQmX"
      },
      "source": [
        "questions = pd.read_csv('/content/drive/MyDrive/Colab Notebooks/riiid/riiid-test-answer-prediction.zip (Unzipped Files)/questions.csv')"
      ],
      "execution_count": null,
      "outputs": []
    },
    {
      "cell_type": "code",
      "metadata": {
        "colab": {
          "base_uri": "https://localhost:8080/",
          "height": 205
        },
        "id": "sabi75tEHbGX",
        "outputId": "c5058af9-dfdd-4280-c3ef-04f370ffce06"
      },
      "source": [
        "questions.head()"
      ],
      "execution_count": null,
      "outputs": [
        {
          "output_type": "execute_result",
          "data": {
            "text/html": [
              "<div>\n",
              "<style scoped>\n",
              "    .dataframe tbody tr th:only-of-type {\n",
              "        vertical-align: middle;\n",
              "    }\n",
              "\n",
              "    .dataframe tbody tr th {\n",
              "        vertical-align: top;\n",
              "    }\n",
              "\n",
              "    .dataframe thead th {\n",
              "        text-align: right;\n",
              "    }\n",
              "</style>\n",
              "<table border=\"1\" class=\"dataframe\">\n",
              "  <thead>\n",
              "    <tr style=\"text-align: right;\">\n",
              "      <th></th>\n",
              "      <th>question_id</th>\n",
              "      <th>bundle_id</th>\n",
              "      <th>correct_answer</th>\n",
              "      <th>part</th>\n",
              "      <th>tags</th>\n",
              "    </tr>\n",
              "  </thead>\n",
              "  <tbody>\n",
              "    <tr>\n",
              "      <th>0</th>\n",
              "      <td>0</td>\n",
              "      <td>0</td>\n",
              "      <td>0</td>\n",
              "      <td>1</td>\n",
              "      <td>51 131 162 38</td>\n",
              "    </tr>\n",
              "    <tr>\n",
              "      <th>1</th>\n",
              "      <td>1</td>\n",
              "      <td>1</td>\n",
              "      <td>1</td>\n",
              "      <td>1</td>\n",
              "      <td>131 36 81</td>\n",
              "    </tr>\n",
              "    <tr>\n",
              "      <th>2</th>\n",
              "      <td>2</td>\n",
              "      <td>2</td>\n",
              "      <td>0</td>\n",
              "      <td>1</td>\n",
              "      <td>131 101 162 92</td>\n",
              "    </tr>\n",
              "    <tr>\n",
              "      <th>3</th>\n",
              "      <td>3</td>\n",
              "      <td>3</td>\n",
              "      <td>0</td>\n",
              "      <td>1</td>\n",
              "      <td>131 149 162 29</td>\n",
              "    </tr>\n",
              "    <tr>\n",
              "      <th>4</th>\n",
              "      <td>4</td>\n",
              "      <td>4</td>\n",
              "      <td>3</td>\n",
              "      <td>1</td>\n",
              "      <td>131 5 162 38</td>\n",
              "    </tr>\n",
              "  </tbody>\n",
              "</table>\n",
              "</div>"
            ],
            "text/plain": [
              "   question_id  bundle_id  correct_answer  part            tags\n",
              "0            0          0               0     1   51 131 162 38\n",
              "1            1          1               1     1       131 36 81\n",
              "2            2          2               0     1  131 101 162 92\n",
              "3            3          3               0     1  131 149 162 29\n",
              "4            4          4               3     1    131 5 162 38"
            ]
          },
          "metadata": {
            "tags": []
          },
          "execution_count": 166
        }
      ]
    },
    {
      "cell_type": "code",
      "metadata": {
        "colab": {
          "base_uri": "https://localhost:8080/"
        },
        "id": "vYeZZP5pHcqV",
        "outputId": "4c8d484f-1eb2-408b-cdc3-9f0aaff13549"
      },
      "source": [
        "questions.shape"
      ],
      "execution_count": null,
      "outputs": [
        {
          "output_type": "execute_result",
          "data": {
            "text/plain": [
              "(13523, 5)"
            ]
          },
          "metadata": {
            "tags": []
          },
          "execution_count": 167
        }
      ]
    },
    {
      "cell_type": "code",
      "metadata": {
        "colab": {
          "base_uri": "https://localhost:8080/"
        },
        "id": "eeDxiLZWJZkE",
        "outputId": "325871cb-7af4-42de-9f37-fe5564958315"
      },
      "source": [
        "questions.info()"
      ],
      "execution_count": null,
      "outputs": [
        {
          "output_type": "stream",
          "text": [
            "<class 'pandas.core.frame.DataFrame'>\n",
            "RangeIndex: 13523 entries, 0 to 13522\n",
            "Data columns (total 5 columns):\n",
            " #   Column          Non-Null Count  Dtype \n",
            "---  ------          --------------  ----- \n",
            " 0   question_id     13523 non-null  int64 \n",
            " 1   bundle_id       13523 non-null  int64 \n",
            " 2   correct_answer  13523 non-null  int64 \n",
            " 3   part            13523 non-null  int64 \n",
            " 4   tags            13522 non-null  object\n",
            "dtypes: int64(4), object(1)\n",
            "memory usage: 528.4+ KB\n"
          ],
          "name": "stdout"
        }
      ]
    },
    {
      "cell_type": "code",
      "metadata": {
        "colab": {
          "base_uri": "https://localhost:8080/",
          "height": 81
        },
        "id": "2wtgW3HZJdlj",
        "outputId": "8173500f-bb9f-47de-ea2a-efa3dbe62f2d"
      },
      "source": [
        "questions[questions.tags.isna()]"
      ],
      "execution_count": null,
      "outputs": [
        {
          "output_type": "execute_result",
          "data": {
            "text/html": [
              "<div>\n",
              "<style scoped>\n",
              "    .dataframe tbody tr th:only-of-type {\n",
              "        vertical-align: middle;\n",
              "    }\n",
              "\n",
              "    .dataframe tbody tr th {\n",
              "        vertical-align: top;\n",
              "    }\n",
              "\n",
              "    .dataframe thead th {\n",
              "        text-align: right;\n",
              "    }\n",
              "</style>\n",
              "<table border=\"1\" class=\"dataframe\">\n",
              "  <thead>\n",
              "    <tr style=\"text-align: right;\">\n",
              "      <th></th>\n",
              "      <th>question_id</th>\n",
              "      <th>bundle_id</th>\n",
              "      <th>correct_answer</th>\n",
              "      <th>part</th>\n",
              "      <th>tags</th>\n",
              "    </tr>\n",
              "  </thead>\n",
              "  <tbody>\n",
              "    <tr>\n",
              "      <th>10033</th>\n",
              "      <td>10033</td>\n",
              "      <td>10033</td>\n",
              "      <td>2</td>\n",
              "      <td>6</td>\n",
              "      <td>NaN</td>\n",
              "    </tr>\n",
              "  </tbody>\n",
              "</table>\n",
              "</div>"
            ],
            "text/plain": [
              "       question_id  bundle_id  correct_answer  part tags\n",
              "10033        10033      10033               2     6  NaN"
            ]
          },
          "metadata": {
            "tags": []
          },
          "execution_count": 169
        }
      ]
    },
    {
      "cell_type": "markdown",
      "metadata": {
        "id": "CSEyJUewLj4p"
      },
      "source": [
        "questions의 tag별로 데이터 정리"
      ]
    },
    {
      "cell_type": "code",
      "metadata": {
        "colab": {
          "base_uri": "https://localhost:8080/"
        },
        "id": "BcbzNO5WJiL2",
        "outputId": "854fe3e5-97b4-4b4e-cc0e-00ba7b838f45"
      },
      "source": [
        "questions['tags'] = questions['tags'].astype(str)\n",
        "\n",
        "tags = [x.split() for x in questions[questions.tags != \"nan\"].tags.values]\n",
        "tags = [item for elem in tags for item in elem]\n",
        "tags = set(tags)\n",
        "tags = list(tags)\n",
        "print(f'There are {len(tags)} different tags')"
      ],
      "execution_count": null,
      "outputs": [
        {
          "output_type": "stream",
          "text": [
            "There are 188 different tags\n"
          ],
          "name": "stdout"
        }
      ]
    },
    {
      "cell_type": "code",
      "metadata": {
        "colab": {
          "base_uri": "https://localhost:8080/",
          "height": 205
        },
        "id": "sfLNd6nuJwlO",
        "outputId": "14a96952-2c26-468d-f148-088a40415548"
      },
      "source": [
        "# tags_list = [x.split() for x in questions.tags.values]\n",
        "# questions['tags'] = tags_list\n",
        "# questions.head()\n",
        "\n",
        "tmp = sample_train[sample_train.answered_correctly != -1].groupby([\"content_id\", 'answered_correctly'], as_index=False).size()\n",
        "tmp = tmp.pivot(index= \"content_id\", columns='answered_correctly', values='size')\n",
        "\n",
        "tmp.columns = ['Wrong', 'Right']\n",
        "tmp = tmp.fillna(0)\n",
        "tmp[['Wrong', 'Right']] = tmp[['Wrong', 'Right']].astype(int)\n",
        "questions = questions.merge(tmp, left_on = \"question_id\", right_on = \"content_id\", how = \"left\")\n",
        "questions.head()"
      ],
      "execution_count": null,
      "outputs": [
        {
          "output_type": "execute_result",
          "data": {
            "text/html": [
              "<div>\n",
              "<style scoped>\n",
              "    .dataframe tbody tr th:only-of-type {\n",
              "        vertical-align: middle;\n",
              "    }\n",
              "\n",
              "    .dataframe tbody tr th {\n",
              "        vertical-align: top;\n",
              "    }\n",
              "\n",
              "    .dataframe thead th {\n",
              "        text-align: right;\n",
              "    }\n",
              "</style>\n",
              "<table border=\"1\" class=\"dataframe\">\n",
              "  <thead>\n",
              "    <tr style=\"text-align: right;\">\n",
              "      <th></th>\n",
              "      <th>question_id</th>\n",
              "      <th>bundle_id</th>\n",
              "      <th>correct_answer</th>\n",
              "      <th>part</th>\n",
              "      <th>tags</th>\n",
              "      <th>Wrong</th>\n",
              "      <th>Right</th>\n",
              "    </tr>\n",
              "  </thead>\n",
              "  <tbody>\n",
              "    <tr>\n",
              "      <th>0</th>\n",
              "      <td>0</td>\n",
              "      <td>0</td>\n",
              "      <td>0</td>\n",
              "      <td>1</td>\n",
              "      <td>51 131 162 38</td>\n",
              "      <td>7.00000</td>\n",
              "      <td>65.00000</td>\n",
              "    </tr>\n",
              "    <tr>\n",
              "      <th>1</th>\n",
              "      <td>1</td>\n",
              "      <td>1</td>\n",
              "      <td>1</td>\n",
              "      <td>1</td>\n",
              "      <td>131 36 81</td>\n",
              "      <td>12.00000</td>\n",
              "      <td>74.00000</td>\n",
              "    </tr>\n",
              "    <tr>\n",
              "      <th>2</th>\n",
              "      <td>2</td>\n",
              "      <td>2</td>\n",
              "      <td>0</td>\n",
              "      <td>1</td>\n",
              "      <td>131 101 162 92</td>\n",
              "      <td>205.00000</td>\n",
              "      <td>271.00000</td>\n",
              "    </tr>\n",
              "    <tr>\n",
              "      <th>3</th>\n",
              "      <td>3</td>\n",
              "      <td>3</td>\n",
              "      <td>0</td>\n",
              "      <td>1</td>\n",
              "      <td>131 149 162 29</td>\n",
              "      <td>56.00000</td>\n",
              "      <td>203.00000</td>\n",
              "    </tr>\n",
              "    <tr>\n",
              "      <th>4</th>\n",
              "      <td>4</td>\n",
              "      <td>4</td>\n",
              "      <td>3</td>\n",
              "      <td>1</td>\n",
              "      <td>131 5 162 38</td>\n",
              "      <td>128.00000</td>\n",
              "      <td>199.00000</td>\n",
              "    </tr>\n",
              "  </tbody>\n",
              "</table>\n",
              "</div>"
            ],
            "text/plain": [
              "   question_id  bundle_id  correct_answer  ...            tags     Wrong     Right\n",
              "0            0          0               0  ...   51 131 162 38   7.00000  65.00000\n",
              "1            1          1               1  ...       131 36 81  12.00000  74.00000\n",
              "2            2          2               0  ...  131 101 162 92 205.00000 271.00000\n",
              "3            3          3               0  ...  131 149 162 29  56.00000 203.00000\n",
              "4            4          4               3  ...    131 5 162 38 128.00000 199.00000\n",
              "\n",
              "[5 rows x 7 columns]"
            ]
          },
          "metadata": {
            "tags": []
          },
          "execution_count": 171
        }
      ]
    },
    {
      "cell_type": "code",
      "metadata": {
        "id": "b159JGdFJ-fl"
      },
      "source": [
        "tags_df = pd.DataFrame()\n",
        "for x in range(len(tags)):\n",
        "    df = questions[questions.tags.apply(lambda l: tags[x] in l)]\n",
        "    df1 = df.agg({'Wrong': ['sum'], 'Right': ['sum']})\n",
        "    df1['Total_questions'] = df1.Wrong + df1.Right\n",
        "    df1['Question_ids_with_tag'] = len(df)\n",
        "    df1['tag'] = tags[x]\n",
        "    df1 = df1.set_index('tag')\n",
        "    tags_df = tags_df.append(df1)\n",
        "\n",
        "tags_df[['Wrong', 'Right', 'Total_questions']] = tags_df[['Wrong', 'Right', 'Total_questions']].astype(int)\n",
        "tags_df['Percent_correct'] = tags_df.Right/tags_df.Total_questions\n",
        "tags_df = tags_df.sort_values(by = \"Percent_correct\")\n"
      ],
      "execution_count": null,
      "outputs": []
    },
    {
      "cell_type": "code",
      "metadata": {
        "colab": {
          "base_uri": "https://localhost:8080/",
          "height": 236
        },
        "id": "4u75W1DMLA1p",
        "outputId": "28e58ac3-f54c-48c2-df6a-776ec24a730a"
      },
      "source": [
        "tags_df.head()"
      ],
      "execution_count": null,
      "outputs": [
        {
          "output_type": "execute_result",
          "data": {
            "text/html": [
              "<div>\n",
              "<style scoped>\n",
              "    .dataframe tbody tr th:only-of-type {\n",
              "        vertical-align: middle;\n",
              "    }\n",
              "\n",
              "    .dataframe tbody tr th {\n",
              "        vertical-align: top;\n",
              "    }\n",
              "\n",
              "    .dataframe thead th {\n",
              "        text-align: right;\n",
              "    }\n",
              "</style>\n",
              "<table border=\"1\" class=\"dataframe\">\n",
              "  <thead>\n",
              "    <tr style=\"text-align: right;\">\n",
              "      <th></th>\n",
              "      <th>Wrong</th>\n",
              "      <th>Right</th>\n",
              "      <th>Total_questions</th>\n",
              "      <th>Question_ids_with_tag</th>\n",
              "      <th>Percent_correct</th>\n",
              "    </tr>\n",
              "    <tr>\n",
              "      <th>tag</th>\n",
              "      <th></th>\n",
              "      <th></th>\n",
              "      <th></th>\n",
              "      <th></th>\n",
              "      <th></th>\n",
              "    </tr>\n",
              "  </thead>\n",
              "  <tbody>\n",
              "    <tr>\n",
              "      <th>86</th>\n",
              "      <td>22</td>\n",
              "      <td>14</td>\n",
              "      <td>36</td>\n",
              "      <td>1</td>\n",
              "      <td>0.388889</td>\n",
              "    </tr>\n",
              "    <tr>\n",
              "      <th>24</th>\n",
              "      <td>1663</td>\n",
              "      <td>1093</td>\n",
              "      <td>2756</td>\n",
              "      <td>17</td>\n",
              "      <td>0.396589</td>\n",
              "    </tr>\n",
              "    <tr>\n",
              "      <th>23</th>\n",
              "      <td>2731</td>\n",
              "      <td>2168</td>\n",
              "      <td>4899</td>\n",
              "      <td>11</td>\n",
              "      <td>0.442539</td>\n",
              "    </tr>\n",
              "    <tr>\n",
              "      <th>19</th>\n",
              "      <td>1921</td>\n",
              "      <td>1590</td>\n",
              "      <td>3511</td>\n",
              "      <td>57</td>\n",
              "      <td>0.452862</td>\n",
              "    </tr>\n",
              "    <tr>\n",
              "      <th>151</th>\n",
              "      <td>2882</td>\n",
              "      <td>2752</td>\n",
              "      <td>5634</td>\n",
              "      <td>16</td>\n",
              "      <td>0.488463</td>\n",
              "    </tr>\n",
              "  </tbody>\n",
              "</table>\n",
              "</div>"
            ],
            "text/plain": [
              "     Wrong  Right  Total_questions  Question_ids_with_tag  Percent_correct\n",
              "tag                                                                       \n",
              "86      22     14               36                      1         0.388889\n",
              "24    1663   1093             2756                     17         0.396589\n",
              "23    2731   2168             4899                     11         0.442539\n",
              "19    1921   1590             3511                     57         0.452862\n",
              "151   2882   2752             5634                     16         0.488463"
            ]
          },
          "metadata": {
            "tags": []
          },
          "execution_count": 228
        }
      ]
    },
    {
      "cell_type": "code",
      "metadata": {
        "colab": {
          "base_uri": "https://localhost:8080/",
          "height": 397
        },
        "id": "3crkOqUOLVz9",
        "outputId": "e6a653f6-dca3-49ae-a971-c991829da161"
      },
      "source": [
        "select_rows = list(range(0,10)) + list(range(178, len(tags_df)))\n",
        "tags_select = tags_df.iloc[select_rows,4]\n",
        "\n",
        "fig = plt.figure(figsize=(10,6))\n",
        "x = tags_select.index\n",
        "y = tags_select.values\n",
        "clrs = ['red' if y < 0.6 else 'green' for y in tags_select.values]\n",
        "tags_select.plot.bar(x, y, color=clrs)\n",
        "# plt.title(\"Ten hardest and ten easiest tags\")\n",
        "# plt.xlabel(\"Tag\")\n",
        "# plt.ylabel(\"Percent answers correct of questions with the tag\")\n",
        "# plt.xticks(rotation=90)\n",
        "plt.show()"
      ],
      "execution_count": null,
      "outputs": [
        {
          "output_type": "display_data",
          "data": {
            "image/png": "[encoded data removed]",
            "text/plain": [
              "<Figure size 720x432 with 1 Axes>"
            ]
          },
          "metadata": {
            "tags": [],
            "needs_background": "light"
          }
        }
      ]
    },
    {
      "cell_type": "markdown",
      "metadata": {
        "id": "iWz2thGlNPHF"
      },
      "source": [
        "쉬운 문제와 어려운 문제를 나눌 수 있음 차이가 많이 남"
      ]
    },
    {
      "cell_type": "code",
      "metadata": {
        "colab": {
          "base_uri": "https://localhost:8080/",
          "height": 413
        },
        "id": "Ft5njDLNMyL3",
        "outputId": "4d7a8d1f-5895-4aab-d49b-8c2795c73cbe"
      },
      "source": [
        "tags_select = tags_df.sort_values(by = \"Total_questions\", ascending = False).iloc[:30,:]\n",
        "tags_select = tags_select[\"Total_questions\"]\n",
        "\n",
        "fig = plt.figure(figsize=(12,6))\n",
        "ax = tags_select.plot.bar()\n",
        "plt.title(\"Thirty tags with most questions answered\")\n",
        "plt.xticks(rotation=90)\n",
        "plt.ticklabel_format(style='plain', axis='y')\n",
        "# ax.get_yaxis().set_major_formatter(FuncFormatter(lambda x, p: format(int(x), ','))) #add thousands separator\n",
        "plt.show()"
      ],
      "execution_count": null,
      "outputs": [
        {
          "output_type": "display_data",
          "data": {
            "image/png": "[encoded data removed]",
            "text/plain": [
              "<Figure size 864x432 with 1 Axes>"
            ]
          },
          "metadata": {
            "tags": [],
            "needs_background": "light"
          }
        }
      ]
    },
    {
      "cell_type": "code",
      "metadata": {
        "colab": {
          "base_uri": "https://localhost:8080/",
          "height": 567
        },
        "id": "4DGyDYN3NcWX",
        "outputId": "f4f980b6-57d9-4956-8f18-7d7e38fd9d26"
      },
      "source": [
        "fig = plt.figure(figsize=(12,8))\n",
        "ax1 = fig.add_subplot(211)\n",
        "ax1 = questions.groupby(\"part\").count()['question_id'].plot.bar()\n",
        "plt.title(\"Counts of part\")\n",
        "plt.xlabel(\"Part\")\n",
        "plt.xticks(rotation=0)\n",
        "\n",
        "part = questions.groupby('part').agg({'Wrong': ['sum'], 'Right': ['sum']})\n",
        "part['Percent_correct'] = part.Right/(part.Right + part.Wrong)\n",
        "part = part.iloc[:,2]\n",
        "\n",
        "ax2 = fig.add_subplot(212)\n",
        "plt.bar(part.index, part.values)\n",
        "for i, v in zip(part.index, part.values):\n",
        "    plt.text(i, v, round(v,2), color='white', fontweight='bold', fontsize=14, va='top', ha='center')\n",
        "\n",
        "plt.title(\"Percent_correct by part\")\n",
        "plt.xlabel(\"Part\")\n",
        "plt.xticks(rotation=0)\n",
        "plt.tight_layout(pad=2)\n",
        "plt.show()"
      ],
      "execution_count": null,
      "outputs": [
        {
          "output_type": "display_data",
          "data": {
            "image/png": "[encoded data removed]",
            "text/plain": [
              "<Figure size 864x576 with 2 Axes>"
            ]
          },
          "metadata": {
            "tags": [],
            "needs_background": "light"
          }
        }
      ]
    },
    {
      "cell_type": "markdown",
      "metadata": {
        "id": "PBGjhameOaBV"
      },
      "source": [
        "파트 5 문제가 가장 많고 정답율이 가장 낮다. 파트 1은 문제가 가장 적고 정답율이 높다. 그러면 나온 문제가 파트 1이면 정답을 맞출 확률이 높을 거라고 생각?"
      ]
    },
    {
      "cell_type": "markdown",
      "metadata": {
        "id": "nbLQHNt4O2JD"
      },
      "source": [
        "---\n",
        "### Lectures"
      ]
    },
    {
      "cell_type": "code",
      "metadata": {
        "id": "_6CrRSS-OQKu"
      },
      "source": [
        "lectures=pd.read_csv('/content/drive/MyDrive/Colab Notebooks/riiid/riiid-test-answer-prediction.zip (Unzipped Files)/lectures.csv')"
      ],
      "execution_count": null,
      "outputs": []
    },
    {
      "cell_type": "code",
      "metadata": {
        "colab": {
          "base_uri": "https://localhost:8080/",
          "height": 205
        },
        "id": "OqdvCl5DO_KT",
        "outputId": "dd1dc9dd-c3dc-49d2-e00e-c418b7600c70"
      },
      "source": [
        "lectures.head()"
      ],
      "execution_count": null,
      "outputs": [
        {
          "output_type": "execute_result",
          "data": {
            "text/html": [
              "<div>\n",
              "<style scoped>\n",
              "    .dataframe tbody tr th:only-of-type {\n",
              "        vertical-align: middle;\n",
              "    }\n",
              "\n",
              "    .dataframe tbody tr th {\n",
              "        vertical-align: top;\n",
              "    }\n",
              "\n",
              "    .dataframe thead th {\n",
              "        text-align: right;\n",
              "    }\n",
              "</style>\n",
              "<table border=\"1\" class=\"dataframe\">\n",
              "  <thead>\n",
              "    <tr style=\"text-align: right;\">\n",
              "      <th></th>\n",
              "      <th>lecture_id</th>\n",
              "      <th>tag</th>\n",
              "      <th>part</th>\n",
              "      <th>type_of</th>\n",
              "    </tr>\n",
              "  </thead>\n",
              "  <tbody>\n",
              "    <tr>\n",
              "      <th>0</th>\n",
              "      <td>89</td>\n",
              "      <td>159</td>\n",
              "      <td>5</td>\n",
              "      <td>concept</td>\n",
              "    </tr>\n",
              "    <tr>\n",
              "      <th>1</th>\n",
              "      <td>100</td>\n",
              "      <td>70</td>\n",
              "      <td>1</td>\n",
              "      <td>concept</td>\n",
              "    </tr>\n",
              "    <tr>\n",
              "      <th>2</th>\n",
              "      <td>185</td>\n",
              "      <td>45</td>\n",
              "      <td>6</td>\n",
              "      <td>concept</td>\n",
              "    </tr>\n",
              "    <tr>\n",
              "      <th>3</th>\n",
              "      <td>192</td>\n",
              "      <td>79</td>\n",
              "      <td>5</td>\n",
              "      <td>solving question</td>\n",
              "    </tr>\n",
              "    <tr>\n",
              "      <th>4</th>\n",
              "      <td>317</td>\n",
              "      <td>156</td>\n",
              "      <td>5</td>\n",
              "      <td>solving question</td>\n",
              "    </tr>\n",
              "  </tbody>\n",
              "</table>\n",
              "</div>"
            ],
            "text/plain": [
              "   lecture_id  tag  part           type_of\n",
              "0          89  159     5           concept\n",
              "1         100   70     1           concept\n",
              "2         185   45     6           concept\n",
              "3         192   79     5  solving question\n",
              "4         317  156     5  solving question"
            ]
          },
          "metadata": {
            "tags": []
          },
          "execution_count": 237
        }
      ]
    },
    {
      "cell_type": "code",
      "metadata": {
        "colab": {
          "base_uri": "https://localhost:8080/"
        },
        "id": "BGEoO7yMPBCd",
        "outputId": "d8519af1-eae9-44fe-907f-ef84ef231630"
      },
      "source": [
        "lectures.shape"
      ],
      "execution_count": null,
      "outputs": [
        {
          "output_type": "execute_result",
          "data": {
            "text/plain": [
              "(418, 4)"
            ]
          },
          "metadata": {
            "tags": []
          },
          "execution_count": 238
        }
      ]
    },
    {
      "cell_type": "code",
      "metadata": {
        "colab": {
          "base_uri": "https://localhost:8080/"
        },
        "id": "OgHXJx0iPX23",
        "outputId": "f0094795-9b64-4776-b9a5-2a9e89dd2708"
      },
      "source": [
        "lect_type_of = lectures.type_of.value_counts()\n",
        "lect_type_of"
      ],
      "execution_count": null,
      "outputs": [
        {
          "output_type": "execute_result",
          "data": {
            "text/plain": [
              "concept             222\n",
              "solving question    186\n",
              "intention             7\n",
              "starter               3\n",
              "Name: type_of, dtype: int64"
            ]
          },
          "metadata": {
            "tags": []
          },
          "execution_count": 240
        }
      ]
    },
    {
      "cell_type": "code",
      "metadata": {
        "colab": {
          "base_uri": "https://localhost:8080/",
          "height": 374
        },
        "id": "tlGcwYNYPEhY",
        "outputId": "5a9f2668-be4a-49b2-b3c2-6f0d8b233674"
      },
      "source": [
        "fig = plt.figure(figsize=(12,6))\n",
        "plt.bar(lect_type_of.index, lect_type_of.values)\n",
        "for i, v in zip(lect_type_of.index, lect_type_of.values):\n",
        "    plt.text(i, v, v, color='black', fontweight='bold', fontsize=14, va='bottom', ha='center')"
      ],
      "execution_count": null,
      "outputs": [
        {
          "output_type": "display_data",
          "data": {
            "image/png": "[encoded data removed]",
            "text/plain": [
              "<Figure size 864x432 with 1 Axes>"
            ]
          },
          "metadata": {
            "tags": [],
            "needs_background": "light"
          }
        }
      ]
    },
    {
      "cell_type": "markdown",
      "metadata": {
        "id": "uR92r530Qrho"
      },
      "source": [
        "sample_train.answered_correctly 이게 -1일 경우 lecture로 볼 수 있는데 나는 그걸 다 지워버렸다.. 일단 lecture는 여기까지만 하자\n",
        "\n",
        "하지만 강의를 봤는지 여부가 feature가 될 수 있다."
      ]
    },
    {
      "cell_type": "code",
      "metadata": {
        "colab": {
          "base_uri": "https://localhost:8080/"
        },
        "id": "APYIuwY7QdB-",
        "outputId": "db762e05-a125-44d8-f834-7808001a3b6e"
      },
      "source": [
        "sample_train.answered_correctly.value_counts()"
      ],
      "execution_count": null,
      "outputs": [
        {
          "output_type": "execute_result",
          "data": {
            "text/plain": [
              "1    692418\n",
              "0    356778\n",
              "Name: answered_correctly, dtype: int64"
            ]
          },
          "metadata": {
            "tags": []
          },
          "execution_count": 247
        }
      ]
    },
    {
      "cell_type": "code",
      "metadata": {
        "id": "iMtlqzXLQmta"
      },
      "source": [
        ""
      ],
      "execution_count": null,
      "outputs": []
    },
    {
      "cell_type": "code",
      "metadata": {
        "colab": {
          "base_uri": "https://localhost:8080/",
          "height": 428
        },
        "id": "FAjGaRihc7lS",
        "outputId": "0062b146-c75f-4c98-f05f-90e67fc1667f"
      },
      "source": [
        "# train/valid/test set visualization\n",
        "\n",
        "train = np.arange(0.70, 0.84, 0.01)\n",
        "valid = 0.85-train\n",
        "\n",
        "cv_set = pd.DataFrame({'train':train, 'valid':valid})\n",
        "idx = []\n",
        "for i in range(15) :\n",
        "    idx.append(f'cv{i}')\n",
        "cv_set.index=idx;\n",
        "cv_set['test'] = [0.15]*len(cv_set)\n",
        "\n",
        "cv_set.sort_values(by='valid').plot(kind='barh', figsize=(10,7), stacked=True, width=0.8)\n",
        "font2 = {'family': 'Times New Roman',\n",
        "      'color':  'white',\n",
        "      'weight': 'bold',\n",
        "      'size': 12}\n",
        "i=0\n",
        "for item in cv_set.sort_values(by='valid').index :\n",
        "    txt_t = round(cv_set.sort_values(by='valid').loc[item, 'train'],2)\n",
        "    txt_v = round(cv_set.sort_values(by='valid').loc[item, 'valid'],2)\n",
        "    txt_te=cv_set.sort_values(by='valid').loc[item, 'test']\n",
        "\n",
        "    plt.text(0.5, i, txt_t, fontdict=font2)\n",
        "    plt.text(0.8, i, txt_v, fontdict=font2)\n",
        "    plt.text(0.94, i, txt_te, fontdict=font2)\n",
        "    i+=1\n",
        "plt.legend(loc='lower left')\n",
        "plt.show()"
      ],
      "execution_count": null,
      "outputs": [
        {
          "output_type": "display_data",
          "data": {
            "image/png": "[encoded data removed]",
            "text/plain": [
              "<Figure size 720x504 with 1 Axes>"
            ]
          },
          "metadata": {
            "tags": [],
            "needs_background": "light"
          }
        }
      ]
    },
    {
      "cell_type": "code",
      "metadata": {
        "id": "Pc7GnPnboGmH"
      },
      "source": [
        "!pip freeze > requirements.txt"
      ],
      "execution_count": null,
      "outputs": []
    },
    {
      "cell_type": "code",
      "metadata": {
        "id": "P5FWMcmn8Koo"
      },
      "source": [
        ""
      ],
      "execution_count": null,
      "outputs": []
    }
  ]
}